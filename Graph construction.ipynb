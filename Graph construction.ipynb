{
 "cells": [
  {
   "cell_type": "code",
   "execution_count": 1,
   "metadata": {
    "collapsed": false
   },
   "outputs": [],
   "source": [
    "import pandas as pd\n",
    "import numpy as np\n",
    "import matplotlib.pyplot as plt\n",
    "from sklearn import preprocessing\n",
    "from sklearn.metrics.pairwise import pairwise_distances, euclidean_distances\n",
    "%matplotlib inline"
   ]
  },
  {
   "cell_type": "markdown",
   "metadata": {},
   "source": [
    "## Loading data"
   ]
  },
  {
   "cell_type": "code",
   "execution_count": 2,
   "metadata": {
    "collapsed": false
   },
   "outputs": [
    {
     "name": "stderr",
     "output_type": "stream",
     "text": [
      "//anaconda/lib/python3.5/site-packages/numpy/lib/arraysetops.py:379: FutureWarning: elementwise comparison failed; returning scalar instead, but in the future will perform elementwise comparison\n",
      "  mask |= (ar1 == a)\n"
     ]
    }
   ],
   "source": [
    "# open data & preprocess\n",
    "data = pd.read_csv('20171121_data.csv', index_col=0)\n",
    "exercise = pd.read_csv('exerciseId.tsv', sep='\\t', index_col=0)\n",
    "chapter = pd.read_csv('20171122_chapter.tsv', sep='\\t')\n",
    "data['subject_id'] = data['chapter_id'].map(chapter['subject_id'])\n",
    "data['beginningDate'] = pd.to_datetime(data['beginningDate'])\n",
    "data['endDate'] = pd.to_datetime(data['endDate'])\n",
    "data['spentTime'] = data['endDate'] - data['beginningDate']\n",
    "data['spentTime'] = data['spentTime'].dt.total_seconds()"
   ]
  },
  {
   "cell_type": "code",
   "execution_count": 10,
   "metadata": {
    "collapsed": false
   },
   "outputs": [],
   "source": [
    "subject = pd.read_csv('20171122_subject.tsv', sep='\\t')\n",
    "subject = subject[['id','fullTitle']]"
   ]
  },
  {
   "cell_type": "code",
   "execution_count": 12,
   "metadata": {
    "collapsed": false
   },
   "outputs": [],
   "source": [
    "# Merging exercise_id with all data\n",
    "df = data.merge(exercise, how='left', left_index=True, right_index=True)\n",
    "df = df[np.isfinite(df['user_id']) & np.isfinite(df['exercise_id'])].drop_duplicates() #ATTENTION user_id manquants\n",
    "dff = df.reset_index().drop_duplicates('id').set_index('id') #drop duplicates indices ### PROBLEME SUPPRIME\n",
    "\n",
    "# Encoding question types\n",
    "le = preprocessing.LabelEncoder()\n",
    "dff['type_ae'] = le.fit_transform(dff['type'])"
   ]
  },
  {
   "cell_type": "code",
   "execution_count": 13,
   "metadata": {
    "collapsed": false
   },
   "outputs": [
    {
     "name": "stdout",
     "output_type": "stream",
     "text": [
      "nb user 24,966\n",
      "nb exercise 15,372\n",
      "nb users x nb exercises 383,777,352\n"
     ]
    }
   ],
   "source": [
    "# General informations\n",
    "print('nb user %s' % \"{:,}\".format(len(dff.user_id.unique())))\n",
    "print('nb exercise %s' % \"{:,}\".format(len(dff.exercise_id.unique()))) \n",
    "print('nb users x nb exercises %s' % \"{:,}\".format(len(dff.user_id.unique())*len(dff.exercise_id.unique()))) "
   ]
  },
  {
   "cell_type": "markdown",
   "metadata": {},
   "source": [
    "## Adjacency matrix"
   ]
  },
  {
   "cell_type": "markdown",
   "metadata": {},
   "source": [
    "### Graph nodes"
   ]
  },
  {
   "cell_type": "code",
   "execution_count": 14,
   "metadata": {
    "collapsed": true
   },
   "outputs": [],
   "source": [
    "## HYPOTHESIS : we keep only the first answer of a question by a student \n",
    "## (if he has done it multiple times)"
   ]
  },
  {
   "cell_type": "code",
   "execution_count": 15,
   "metadata": {
    "collapsed": false
   },
   "outputs": [],
   "source": [
    "graph = dff.drop_duplicates(['user_id',\n",
    "                            'exercise_id'], keep ='first').groupby(['exercise_id']).agg({\n",
    "                                                                    'user_id':'count',\n",
    "                                                                     'difficulty' : 'mean', \n",
    "                                                                     'valid':'mean',\n",
    "                                                                     'spentTime':'mean',\n",
    "                                                                     'skip':'mean', \n",
    "                                                                     'topic_id':'mean', \n",
    "                                                                     'type_ae':'mean'})#.reset_index()\n",
    "g = graph.dropna() # NA on difficulty : 15264 non-null for 15372 exercise_id\n",
    "# keeping only exercise_id with non-null difficulty\n",
    "saved_ex_id = list(g.index) "
   ]
  },
  {
   "cell_type": "markdown",
   "metadata": {},
   "source": [
    "### History matrix"
   ]
  },
  {
   "cell_type": "code",
   "execution_count": 16,
   "metadata": {
    "collapsed": false
   },
   "outputs": [],
   "source": [
    "# Question history\n",
    "hist = dff.drop_duplicates(['user_id','exercise_id'], keep ='first').groupby(['exercise_id','user_id'])['valid'].mean()\n",
    "hist = hist.to_frame().reset_index()\n",
    "# keeping only exercise_id with non-null difficulty\n",
    "hist = hist[hist.exercise_id.isin(saved_ex_id)]\n",
    "# done questions : valid/not valid\n",
    "h = hist.pivot(index = 'exercise_id', columns = 'user_id', values = 'valid') \n",
    "h = h.fillna(-100) # undone questions \n",
    "h = h.astype(int)"
   ]
  },
  {
   "cell_type": "code",
   "execution_count": 17,
   "metadata": {
    "collapsed": false
   },
   "outputs": [
    {
     "data": {
      "text/html": [
       "<div>\n",
       "<style scoped>\n",
       "    .dataframe tbody tr th:only-of-type {\n",
       "        vertical-align: middle;\n",
       "    }\n",
       "\n",
       "    .dataframe tbody tr th {\n",
       "        vertical-align: top;\n",
       "    }\n",
       "\n",
       "    .dataframe thead th {\n",
       "        text-align: right;\n",
       "    }\n",
       "</style>\n",
       "<table border=\"1\" class=\"dataframe\">\n",
       "  <thead>\n",
       "    <tr style=\"text-align: right;\">\n",
       "      <th>user_id</th>\n",
       "      <th>131703.0</th>\n",
       "      <th>148756.0</th>\n",
       "      <th>125137.0</th>\n",
       "      <th>132206.0</th>\n",
       "      <th>175130.0</th>\n",
       "      <th>160698.0</th>\n",
       "      <th>144671.0</th>\n",
       "      <th>180268.0</th>\n",
       "      <th>171834.0</th>\n",
       "      <th>127592.0</th>\n",
       "    </tr>\n",
       "    <tr>\n",
       "      <th>exercise_id</th>\n",
       "      <th></th>\n",
       "      <th></th>\n",
       "      <th></th>\n",
       "      <th></th>\n",
       "      <th></th>\n",
       "      <th></th>\n",
       "      <th></th>\n",
       "      <th></th>\n",
       "      <th></th>\n",
       "      <th></th>\n",
       "    </tr>\n",
       "  </thead>\n",
       "  <tbody>\n",
       "    <tr>\n",
       "      <th>3223</th>\n",
       "      <td>-100</td>\n",
       "      <td>-100</td>\n",
       "      <td>-100</td>\n",
       "      <td>-100</td>\n",
       "      <td>-100</td>\n",
       "      <td>-100</td>\n",
       "      <td>-100</td>\n",
       "      <td>-100</td>\n",
       "      <td>-100</td>\n",
       "      <td>-100</td>\n",
       "    </tr>\n",
       "    <tr>\n",
       "      <th>3150</th>\n",
       "      <td>-100</td>\n",
       "      <td>-100</td>\n",
       "      <td>-100</td>\n",
       "      <td>-100</td>\n",
       "      <td>-100</td>\n",
       "      <td>-100</td>\n",
       "      <td>-100</td>\n",
       "      <td>-100</td>\n",
       "      <td>-100</td>\n",
       "      <td>-100</td>\n",
       "    </tr>\n",
       "    <tr>\n",
       "      <th>168</th>\n",
       "      <td>-100</td>\n",
       "      <td>-100</td>\n",
       "      <td>-100</td>\n",
       "      <td>-100</td>\n",
       "      <td>-100</td>\n",
       "      <td>-100</td>\n",
       "      <td>-100</td>\n",
       "      <td>-100</td>\n",
       "      <td>-100</td>\n",
       "      <td>-100</td>\n",
       "    </tr>\n",
       "    <tr>\n",
       "      <th>8564</th>\n",
       "      <td>-100</td>\n",
       "      <td>-100</td>\n",
       "      <td>-100</td>\n",
       "      <td>-100</td>\n",
       "      <td>-100</td>\n",
       "      <td>-100</td>\n",
       "      <td>-100</td>\n",
       "      <td>-100</td>\n",
       "      <td>-100</td>\n",
       "      <td>-100</td>\n",
       "    </tr>\n",
       "    <tr>\n",
       "      <th>10961</th>\n",
       "      <td>-100</td>\n",
       "      <td>-100</td>\n",
       "      <td>-100</td>\n",
       "      <td>-100</td>\n",
       "      <td>-100</td>\n",
       "      <td>-100</td>\n",
       "      <td>-100</td>\n",
       "      <td>-100</td>\n",
       "      <td>-100</td>\n",
       "      <td>-100</td>\n",
       "    </tr>\n",
       "  </tbody>\n",
       "</table>\n",
       "</div>"
      ],
      "text/plain": [
       "user_id      131703.0  148756.0  125137.0  132206.0  175130.0  160698.0  \\\n",
       "exercise_id                                                               \n",
       "3223             -100      -100      -100      -100      -100      -100   \n",
       "3150             -100      -100      -100      -100      -100      -100   \n",
       "168              -100      -100      -100      -100      -100      -100   \n",
       "8564             -100      -100      -100      -100      -100      -100   \n",
       "10961            -100      -100      -100      -100      -100      -100   \n",
       "\n",
       "user_id      144671.0  180268.0  171834.0  127592.0  \n",
       "exercise_id                                          \n",
       "3223             -100      -100      -100      -100  \n",
       "3150             -100      -100      -100      -100  \n",
       "168              -100      -100      -100      -100  \n",
       "8564             -100      -100      -100      -100  \n",
       "10961            -100      -100      -100      -100  "
      ]
     },
     "execution_count": 17,
     "metadata": {},
     "output_type": "execute_result"
    }
   ],
   "source": [
    "h.sample(5)[np.random.choice(h.columns, 10)]"
   ]
  },
  {
   "cell_type": "markdown",
   "metadata": {},
   "source": [
    "### Graph edges"
   ]
  },
  {
   "cell_type": "code",
   "execution_count": 18,
   "metadata": {
    "collapsed": true
   },
   "outputs": [],
   "source": [
    "# preprocessing for the 5 categorical features\n",
    "g_ = g[['skip','valid','type_ae','difficulty','topic_id']]\n",
    "x = g_.values #returns a numpy array\n",
    "min_max_scaler = preprocessing.MinMaxScaler()\n",
    "x_scaled = min_max_scaler.fit_transform(x)\n",
    "g2 = pd.DataFrame(x_scaled)\n",
    "\n",
    "# distance for the 5 features\n",
    "dist_notime = pairwise_distances(g2, metric='l1') #L1 norm\n",
    "# distance for the last continuous feature : spentTime\n",
    "g_time = g[['spentTime']]\n",
    "dist_time = pairwise_distances(g_time, metric='canberra') #canberra : somme de (soustraction /somme) 2\n",
    "# distance for all the 6 features\n",
    "dist = dist_time + dist_notime"
   ]
  },
  {
   "cell_type": "code",
   "execution_count": 19,
   "metadata": {
    "collapsed": true
   },
   "outputs": [],
   "source": [
    "# quantile de \"crédibilité\" : nb de fois que la question a été répondue\n",
    "q75 = g.user_id.quantile(q=0.75)\n",
    "q25 = g.user_id.quantile(q=0.25)\n",
    "ex_slice1 = list(g[g.user_id < q25].index)\n",
    "ex_slice2 = list(g[(g.user_id >= q25) & (g.user_id < q75)].index)\n",
    "ex_slice3 = list(g[g.user_id >= q75].index)\n",
    "\n",
    "# création de 3 tranches\n",
    "g_user = g[['user_id']].copy()\n",
    "g_user.iloc[g_user.index.isin(ex_slice1)] = 1\n",
    "g_user.iloc[g_user.index.isin(ex_slice2)] = 2\n",
    "g_user.iloc[g_user.index.isin(ex_slice3)] = 3\n",
    "\n",
    "# distance \n",
    "k = pairwise_distances(g_user, metric='l1')\n",
    "credi = pd.DataFrame(1-k/10) #0.8, 0.9 1\n",
    "credi.index = g.index\n",
    "credi.columns = g.index"
   ]
  },
  {
   "cell_type": "code",
   "execution_count": 20,
   "metadata": {
    "collapsed": true
   },
   "outputs": [],
   "source": [
    "sim = 1 - dist/6 #similarité : 1 - normalized distance\n",
    "W = pd.DataFrame(sim)\n",
    "W.index = g.index\n",
    "W.columns = g.index\n",
    "\n",
    "## SIMILARITY MATRIX\n",
    "W = W.mul(credi)"
   ]
  },
  {
   "cell_type": "code",
   "execution_count": 21,
   "metadata": {
    "collapsed": false
   },
   "outputs": [
    {
     "data": {
      "text/html": [
       "<div>\n",
       "<style scoped>\n",
       "    .dataframe tbody tr th:only-of-type {\n",
       "        vertical-align: middle;\n",
       "    }\n",
       "\n",
       "    .dataframe tbody tr th {\n",
       "        vertical-align: top;\n",
       "    }\n",
       "\n",
       "    .dataframe thead th {\n",
       "        text-align: right;\n",
       "    }\n",
       "</style>\n",
       "<table border=\"1\" class=\"dataframe\">\n",
       "  <thead>\n",
       "    <tr style=\"text-align: right;\">\n",
       "      <th>exercise_id</th>\n",
       "      <th>1599</th>\n",
       "      <th>9380</th>\n",
       "      <th>13069</th>\n",
       "      <th>5491</th>\n",
       "      <th>34380</th>\n",
       "    </tr>\n",
       "    <tr>\n",
       "      <th>exercise_id</th>\n",
       "      <th></th>\n",
       "      <th></th>\n",
       "      <th></th>\n",
       "      <th></th>\n",
       "      <th></th>\n",
       "    </tr>\n",
       "  </thead>\n",
       "  <tbody>\n",
       "    <tr>\n",
       "      <th>1599</th>\n",
       "      <td>1.000000</td>\n",
       "      <td>0.747079</td>\n",
       "      <td>0.771532</td>\n",
       "      <td>0.712634</td>\n",
       "      <td>0.465749</td>\n",
       "    </tr>\n",
       "    <tr>\n",
       "      <th>9380</th>\n",
       "      <td>0.747079</td>\n",
       "      <td>1.000000</td>\n",
       "      <td>0.604668</td>\n",
       "      <td>0.935033</td>\n",
       "      <td>0.506073</td>\n",
       "    </tr>\n",
       "    <tr>\n",
       "      <th>13069</th>\n",
       "      <td>0.771532</td>\n",
       "      <td>0.604668</td>\n",
       "      <td>1.000000</td>\n",
       "      <td>0.569988</td>\n",
       "      <td>0.640557</td>\n",
       "    </tr>\n",
       "    <tr>\n",
       "      <th>5491</th>\n",
       "      <td>0.712634</td>\n",
       "      <td>0.935033</td>\n",
       "      <td>0.569988</td>\n",
       "      <td>1.000000</td>\n",
       "      <td>0.520313</td>\n",
       "    </tr>\n",
       "    <tr>\n",
       "      <th>34380</th>\n",
       "      <td>0.465749</td>\n",
       "      <td>0.506073</td>\n",
       "      <td>0.640557</td>\n",
       "      <td>0.520313</td>\n",
       "      <td>1.000000</td>\n",
       "    </tr>\n",
       "  </tbody>\n",
       "</table>\n",
       "</div>"
      ],
      "text/plain": [
       "exercise_id     1599      9380      13069     5491      34380\n",
       "exercise_id                                                  \n",
       "1599         1.000000  0.747079  0.771532  0.712634  0.465749\n",
       "9380         0.747079  1.000000  0.604668  0.935033  0.506073\n",
       "13069        0.771532  0.604668  1.000000  0.569988  0.640557\n",
       "5491         0.712634  0.935033  0.569988  1.000000  0.520313\n",
       "34380        0.465749  0.506073  0.640557  0.520313  1.000000"
      ]
     },
     "execution_count": 21,
     "metadata": {},
     "output_type": "execute_result"
    }
   ],
   "source": [
    "idx = np.random.choice(W.columns, 5)\n",
    "W[idx].loc[idx]"
   ]
  },
  {
   "cell_type": "markdown",
   "metadata": {},
   "source": [
    "### Focusing on only one subject"
   ]
  },
  {
   "cell_type": "code",
   "execution_count": 34,
   "metadata": {
    "collapsed": false
   },
   "outputs": [],
   "source": [
    "list_ex_hist_3e = dff[dff['subject_id']==1]['exercise_id'].unique()\n",
    "W_small = W[W.index.isin(list_ex_hist_3e)][list_ex_hist_3e]"
   ]
  },
  {
   "cell_type": "code",
   "execution_count": 58,
   "metadata": {
    "collapsed": false
   },
   "outputs": [
    {
     "name": "stdout",
     "output_type": "stream",
     "text": [
      "(878, 878) (878, 290)\n"
     ]
    }
   ],
   "source": [
    "h_small = h[h.index.isin(list_ex_hist_3e)]\n",
    "h_small = h_small.loc[:, (h_small != -100).any()]\n",
    "print(W_small.shape, h_small.shape)"
   ]
  },
  {
   "cell_type": "markdown",
   "metadata": {},
   "source": [
    "### Saving matrices"
   ]
  },
  {
   "cell_type": "code",
   "execution_count": 13,
   "metadata": {
    "collapsed": false,
    "scrolled": true
   },
   "outputs": [],
   "source": [
    "W.to_pickle('adjacency.pkl')\n",
    "h.to_hdf('history.hdf', key = 'hist')"
   ]
  },
  {
   "cell_type": "code",
   "execution_count": 59,
   "metadata": {
    "collapsed": true
   },
   "outputs": [],
   "source": [
    "W_small.to_pickle('adjacency_small.pkl')\n",
    "h_small.to_hdf('history_small.hdf', key = 'hist')"
   ]
  },
  {
   "cell_type": "code",
   "execution_count": null,
   "metadata": {
    "collapsed": true
   },
   "outputs": [],
   "source": []
  }
 ],
 "metadata": {
  "kernelspec": {
   "display_name": "Python 3",
   "language": "python",
   "name": "python3"
  },
  "language_info": {
   "codemirror_mode": {
    "name": "ipython",
    "version": 3
   },
   "file_extension": ".py",
   "mimetype": "text/x-python",
   "name": "python",
   "nbconvert_exporter": "python",
   "pygments_lexer": "ipython3",
   "version": "3.5.4"
  }
 },
 "nbformat": 4,
 "nbformat_minor": 0
}
