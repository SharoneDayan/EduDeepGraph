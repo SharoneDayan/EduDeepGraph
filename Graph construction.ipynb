{
 "cells": [
  {
   "cell_type": "code",
   "execution_count": 1,
   "metadata": {
    "collapsed": false
   },
   "outputs": [],
   "source": [
    "import pandas as pd\n",
    "import numpy as np\n",
    "import matplotlib.pyplot as plt\n",
    "from sklearn import preprocessing\n",
    "from sklearn.metrics.pairwise import pairwise_distances, euclidean_distances\n",
    "%matplotlib inline"
   ]
  },
  {
   "cell_type": "markdown",
   "metadata": {},
   "source": [
    "## Loading data"
   ]
  },
  {
   "cell_type": "code",
   "execution_count": 2,
   "metadata": {
    "collapsed": false
   },
   "outputs": [
    {
     "name": "stderr",
     "output_type": "stream",
     "text": [
      "//anaconda/lib/python3.5/site-packages/numpy/lib/arraysetops.py:379: FutureWarning: elementwise comparison failed; returning scalar instead, but in the future will perform elementwise comparison\n",
      "  mask |= (ar1 == a)\n"
     ]
    }
   ],
   "source": [
    "# open data & preprocess\n",
    "data = pd.read_csv('20171121_data.csv', index_col=0)\n",
    "exercise = pd.read_csv('exerciseId.tsv', sep='\\t', index_col=0)\n",
    "chapter = pd.read_csv('20171122_chapter.tsv', sep='\\t')\n",
    "data['subject_id'] = data['chapter_id'].map(chapter['subject_id'])\n",
    "data['beginningDate'] = pd.to_datetime(data['beginningDate'])\n",
    "data['endDate'] = pd.to_datetime(data['endDate'])\n",
    "data['spentTime'] = data['endDate'] - data['beginningDate']\n",
    "data['spentTime'] = data['spentTime'].dt.total_seconds()"
   ]
  },
  {
   "cell_type": "code",
   "execution_count": 3,
   "metadata": {
    "collapsed": false
   },
   "outputs": [],
   "source": [
    "# Merging exercise_id with all data\n",
    "df = data.merge(exercise, how='left', left_index=True, right_index=True)\n",
    "df = df[np.isfinite(df['user_id']) & np.isfinite(df['exercise_id'])].drop_duplicates() #ATTENTION user_id manquants\n",
    "dff = df.reset_index().drop_duplicates('id').set_index('id') #drop duplicates indices ### PROBLEME SUPPRIME\n",
    "\n",
    "# Encoding question types\n",
    "le = preprocessing.LabelEncoder()\n",
    "dff['type_ae'] = le.fit_transform(dff['type'])"
   ]
  },
  {
   "cell_type": "code",
   "execution_count": 4,
   "metadata": {
    "collapsed": false
   },
   "outputs": [
    {
     "name": "stdout",
     "output_type": "stream",
     "text": [
      "nb user 24,966\n",
      "nb exercise 15,372\n",
      "nb users x nb exercises 383,777,352\n"
     ]
    }
   ],
   "source": [
    "# General informations\n",
    "print('nb user %s' % \"{:,}\".format(len(dff.user_id.unique())))\n",
    "print('nb exercise %s' % \"{:,}\".format(len(dff.exercise_id.unique()))) \n",
    "print('nb users x nb exercises %s' % \"{:,}\".format(len(dff.user_id.unique())*len(dff.exercise_id.unique()))) "
   ]
  },
  {
   "cell_type": "markdown",
   "metadata": {},
   "source": [
    "## Adjacency matrix"
   ]
  },
  {
   "cell_type": "markdown",
   "metadata": {},
   "source": [
    "### Graph nodes"
   ]
  },
  {
   "cell_type": "code",
   "execution_count": 5,
   "metadata": {
    "collapsed": true
   },
   "outputs": [],
   "source": [
    "## HYPOTHESIS : we keep only the first answer of a question by a student \n",
    "## (if he has done it multiple times)"
   ]
  },
  {
   "cell_type": "code",
   "execution_count": 6,
   "metadata": {
    "collapsed": false
   },
   "outputs": [],
   "source": [
    "graph = dff.drop_duplicates(['user_id',\n",
    "                            'exercise_id'], keep ='first').groupby(['exercise_id']).agg({\n",
    "                                                                    'user_id':'count',\n",
    "                                                                     'difficulty' : 'mean', \n",
    "                                                                     'valid':'mean',\n",
    "                                                                     'spentTime':'mean',\n",
    "                                                                     'skip':'mean', \n",
    "                                                                     'topic_id':'mean', \n",
    "                                                                     'type_ae':'mean'})#.reset_index()\n",
    "g = graph.dropna() # NA on difficulty : 15264 non-null for 15372 exercise_id\n",
    "# keeping only exercise_id with non-null difficulty\n",
    "saved_ex_id = list(g.index) "
   ]
  },
  {
   "cell_type": "markdown",
   "metadata": {},
   "source": [
    "### History matrix"
   ]
  },
  {
   "cell_type": "code",
   "execution_count": 7,
   "metadata": {
    "collapsed": false
   },
   "outputs": [],
   "source": [
    "# Question history\n",
    "hist = dff.drop_duplicates(['user_id','exercise_id'], keep ='first').groupby(['exercise_id','user_id'])['valid'].mean()\n",
    "hist = hist.to_frame().reset_index()\n",
    "# keeping only exercise_id with non-null difficulty\n",
    "hist = hist[hist.exercise_id.isin(saved_ex_id)]\n",
    "# done questions : valid/not valid\n",
    "h = hist.pivot(index = 'exercise_id', columns = 'user_id', values = 'valid') \n",
    "h = h.fillna(-100) # undone questions \n",
    "h = h.astype(int)"
   ]
  },
  {
   "cell_type": "code",
   "execution_count": 8,
   "metadata": {
    "collapsed": false
   },
   "outputs": [
    {
     "data": {
      "text/html": [
       "<div>\n",
       "<style scoped>\n",
       "    .dataframe tbody tr th:only-of-type {\n",
       "        vertical-align: middle;\n",
       "    }\n",
       "\n",
       "    .dataframe tbody tr th {\n",
       "        vertical-align: top;\n",
       "    }\n",
       "\n",
       "    .dataframe thead th {\n",
       "        text-align: right;\n",
       "    }\n",
       "</style>\n",
       "<table border=\"1\" class=\"dataframe\">\n",
       "  <thead>\n",
       "    <tr style=\"text-align: right;\">\n",
       "      <th>user_id</th>\n",
       "      <th>105776.0</th>\n",
       "      <th>148457.0</th>\n",
       "      <th>156926.0</th>\n",
       "      <th>141461.0</th>\n",
       "      <th>160793.0</th>\n",
       "      <th>148214.0</th>\n",
       "      <th>200029.0</th>\n",
       "      <th>158283.0</th>\n",
       "      <th>183213.0</th>\n",
       "      <th>173410.0</th>\n",
       "    </tr>\n",
       "    <tr>\n",
       "      <th>exercise_id</th>\n",
       "      <th></th>\n",
       "      <th></th>\n",
       "      <th></th>\n",
       "      <th></th>\n",
       "      <th></th>\n",
       "      <th></th>\n",
       "      <th></th>\n",
       "      <th></th>\n",
       "      <th></th>\n",
       "      <th></th>\n",
       "    </tr>\n",
       "  </thead>\n",
       "  <tbody>\n",
       "    <tr>\n",
       "      <th>8472</th>\n",
       "      <td>-100</td>\n",
       "      <td>-100</td>\n",
       "      <td>-100</td>\n",
       "      <td>-100</td>\n",
       "      <td>-100</td>\n",
       "      <td>-100</td>\n",
       "      <td>-100</td>\n",
       "      <td>-100</td>\n",
       "      <td>-100</td>\n",
       "      <td>-100</td>\n",
       "    </tr>\n",
       "    <tr>\n",
       "      <th>41664</th>\n",
       "      <td>-100</td>\n",
       "      <td>-100</td>\n",
       "      <td>-100</td>\n",
       "      <td>-100</td>\n",
       "      <td>-100</td>\n",
       "      <td>-100</td>\n",
       "      <td>-100</td>\n",
       "      <td>-100</td>\n",
       "      <td>-100</td>\n",
       "      <td>-100</td>\n",
       "    </tr>\n",
       "    <tr>\n",
       "      <th>9385</th>\n",
       "      <td>-100</td>\n",
       "      <td>-100</td>\n",
       "      <td>-100</td>\n",
       "      <td>-100</td>\n",
       "      <td>-100</td>\n",
       "      <td>-100</td>\n",
       "      <td>-100</td>\n",
       "      <td>-100</td>\n",
       "      <td>-100</td>\n",
       "      <td>-100</td>\n",
       "    </tr>\n",
       "    <tr>\n",
       "      <th>8048</th>\n",
       "      <td>-100</td>\n",
       "      <td>-100</td>\n",
       "      <td>-100</td>\n",
       "      <td>-100</td>\n",
       "      <td>-100</td>\n",
       "      <td>-100</td>\n",
       "      <td>-100</td>\n",
       "      <td>-100</td>\n",
       "      <td>-100</td>\n",
       "      <td>-100</td>\n",
       "    </tr>\n",
       "    <tr>\n",
       "      <th>40061</th>\n",
       "      <td>-100</td>\n",
       "      <td>-100</td>\n",
       "      <td>-100</td>\n",
       "      <td>-100</td>\n",
       "      <td>-100</td>\n",
       "      <td>-100</td>\n",
       "      <td>1</td>\n",
       "      <td>-100</td>\n",
       "      <td>-100</td>\n",
       "      <td>-100</td>\n",
       "    </tr>\n",
       "  </tbody>\n",
       "</table>\n",
       "</div>"
      ],
      "text/plain": [
       "user_id      105776.0  148457.0  156926.0  141461.0  160793.0  148214.0  \\\n",
       "exercise_id                                                               \n",
       "8472             -100      -100      -100      -100      -100      -100   \n",
       "41664            -100      -100      -100      -100      -100      -100   \n",
       "9385             -100      -100      -100      -100      -100      -100   \n",
       "8048             -100      -100      -100      -100      -100      -100   \n",
       "40061            -100      -100      -100      -100      -100      -100   \n",
       "\n",
       "user_id      200029.0  158283.0  183213.0  173410.0  \n",
       "exercise_id                                          \n",
       "8472             -100      -100      -100      -100  \n",
       "41664            -100      -100      -100      -100  \n",
       "9385             -100      -100      -100      -100  \n",
       "8048             -100      -100      -100      -100  \n",
       "40061               1      -100      -100      -100  "
      ]
     },
     "execution_count": 8,
     "metadata": {},
     "output_type": "execute_result"
    }
   ],
   "source": [
    "h.sample(5)[np.random.choice(h.columns, 10)]"
   ]
  },
  {
   "cell_type": "markdown",
   "metadata": {},
   "source": [
    "### Graph edges"
   ]
  },
  {
   "cell_type": "code",
   "execution_count": 9,
   "metadata": {
    "collapsed": true
   },
   "outputs": [],
   "source": [
    "# preprocessing for the 5 categorical features\n",
    "g_ = g[['skip','valid','type_ae','difficulty','topic_id']]\n",
    "x = g_.values #returns a numpy array\n",
    "min_max_scaler = preprocessing.MinMaxScaler()\n",
    "x_scaled = min_max_scaler.fit_transform(x)\n",
    "g2 = pd.DataFrame(x_scaled)\n",
    "\n",
    "# distance for the 5 features\n",
    "dist_notime = pairwise_distances(g2, metric='l1') #L1 norm\n",
    "# distance for the last continuous feature : spentTime\n",
    "g_time = g[['spentTime']]\n",
    "dist_time = pairwise_distances(g_time, metric='canberra') #canberra : somme de (soustraction /somme) 2\n",
    "# distance for all the 6 features\n",
    "dist = dist_time + dist_notime"
   ]
  },
  {
   "cell_type": "code",
   "execution_count": 10,
   "metadata": {
    "collapsed": true
   },
   "outputs": [],
   "source": [
    "# quantile de \"crédibilité\" : nb de fois que la question a été répondue\n",
    "q75 = g.user_id.quantile(q=0.75)\n",
    "q25 = g.user_id.quantile(q=0.25)\n",
    "ex_slice1 = list(g[g.user_id < q25].index)\n",
    "ex_slice2 = list(g[(g.user_id >= q25) & (g.user_id < q75)].index)\n",
    "ex_slice3 = list(g[g.user_id >= q75].index)\n",
    "\n",
    "# création de 3 tranches\n",
    "g_user = g[['user_id']].copy()\n",
    "g_user.iloc[g_user.index.isin(ex_slice1)] = 1\n",
    "g_user.iloc[g_user.index.isin(ex_slice2)] = 2\n",
    "g_user.iloc[g_user.index.isin(ex_slice3)] = 3\n",
    "\n",
    "# distance \n",
    "k = pairwise_distances(g_user, metric='l1')\n",
    "credi = pd.DataFrame(1-k/10) #0.8, 0.9 1\n",
    "credi.index = g.index\n",
    "credi.columns = g.index"
   ]
  },
  {
   "cell_type": "code",
   "execution_count": 11,
   "metadata": {
    "collapsed": true
   },
   "outputs": [],
   "source": [
    "sim = 1 - dist/6 #similarité : 1 - normalized distance\n",
    "W = pd.DataFrame(sim)\n",
    "W.index = g.index\n",
    "W.columns = g.index\n",
    "\n",
    "## SIMILARITY MATRIX\n",
    "W = W.mul(credi)"
   ]
  },
  {
   "cell_type": "code",
   "execution_count": 12,
   "metadata": {
    "collapsed": false
   },
   "outputs": [
    {
     "data": {
      "text/html": [
       "<div>\n",
       "<style scoped>\n",
       "    .dataframe tbody tr th:only-of-type {\n",
       "        vertical-align: middle;\n",
       "    }\n",
       "\n",
       "    .dataframe tbody tr th {\n",
       "        vertical-align: top;\n",
       "    }\n",
       "\n",
       "    .dataframe thead th {\n",
       "        text-align: right;\n",
       "    }\n",
       "</style>\n",
       "<table border=\"1\" class=\"dataframe\">\n",
       "  <thead>\n",
       "    <tr style=\"text-align: right;\">\n",
       "      <th>exercise_id</th>\n",
       "      <th>6611</th>\n",
       "      <th>1344</th>\n",
       "      <th>10400</th>\n",
       "      <th>13228</th>\n",
       "      <th>7566</th>\n",
       "    </tr>\n",
       "    <tr>\n",
       "      <th>exercise_id</th>\n",
       "      <th></th>\n",
       "      <th></th>\n",
       "      <th></th>\n",
       "      <th></th>\n",
       "      <th></th>\n",
       "    </tr>\n",
       "  </thead>\n",
       "  <tbody>\n",
       "    <tr>\n",
       "      <th>6611</th>\n",
       "      <td>1.000000</td>\n",
       "      <td>0.679534</td>\n",
       "      <td>0.651781</td>\n",
       "      <td>0.716909</td>\n",
       "      <td>0.885950</td>\n",
       "    </tr>\n",
       "    <tr>\n",
       "      <th>1344</th>\n",
       "      <td>0.679534</td>\n",
       "      <td>1.000000</td>\n",
       "      <td>0.770108</td>\n",
       "      <td>0.515745</td>\n",
       "      <td>0.582670</td>\n",
       "    </tr>\n",
       "    <tr>\n",
       "      <th>10400</th>\n",
       "      <td>0.651781</td>\n",
       "      <td>0.770108</td>\n",
       "      <td>1.000000</td>\n",
       "      <td>0.706212</td>\n",
       "      <td>0.593423</td>\n",
       "    </tr>\n",
       "    <tr>\n",
       "      <th>13228</th>\n",
       "      <td>0.716909</td>\n",
       "      <td>0.515745</td>\n",
       "      <td>0.706212</td>\n",
       "      <td>1.000000</td>\n",
       "      <td>0.671095</td>\n",
       "    </tr>\n",
       "    <tr>\n",
       "      <th>7566</th>\n",
       "      <td>0.885950</td>\n",
       "      <td>0.582670</td>\n",
       "      <td>0.593423</td>\n",
       "      <td>0.671095</td>\n",
       "      <td>1.000000</td>\n",
       "    </tr>\n",
       "  </tbody>\n",
       "</table>\n",
       "</div>"
      ],
      "text/plain": [
       "exercise_id     6611      1344      10400     13228     7566 \n",
       "exercise_id                                                  \n",
       "6611         1.000000  0.679534  0.651781  0.716909  0.885950\n",
       "1344         0.679534  1.000000  0.770108  0.515745  0.582670\n",
       "10400        0.651781  0.770108  1.000000  0.706212  0.593423\n",
       "13228        0.716909  0.515745  0.706212  1.000000  0.671095\n",
       "7566         0.885950  0.582670  0.593423  0.671095  1.000000"
      ]
     },
     "execution_count": 12,
     "metadata": {},
     "output_type": "execute_result"
    }
   ],
   "source": [
    "idx = np.random.choice(W.columns, 5)\n",
    "W[idx].loc[idx]"
   ]
  },
  {
   "cell_type": "markdown",
   "metadata": {},
   "source": [
    "### Saving matrices"
   ]
  },
  {
   "cell_type": "code",
   "execution_count": 13,
   "metadata": {
    "collapsed": false,
    "scrolled": true
   },
   "outputs": [],
   "source": [
    "W.to_pickle('adjacency.pkl')\n",
    "hist.to_pickle('hist.pkl')"
   ]
  },
  {
   "cell_type": "code",
   "execution_count": null,
   "metadata": {
    "collapsed": true
   },
   "outputs": [],
   "source": []
  }
 ],
 "metadata": {
  "kernelspec": {
   "display_name": "Python 3",
   "language": "python",
   "name": "python3"
  },
  "language_info": {
   "codemirror_mode": {
    "name": "ipython",
    "version": 3
   },
   "file_extension": ".py",
   "mimetype": "text/x-python",
   "name": "python",
   "nbconvert_exporter": "python",
   "pygments_lexer": "ipython3",
   "version": "3.5.4"
  }
 },
 "nbformat": 4,
 "nbformat_minor": 0
}
