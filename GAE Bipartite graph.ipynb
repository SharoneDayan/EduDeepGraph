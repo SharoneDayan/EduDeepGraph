{
 "cells": [
  {
   "cell_type": "code",
   "execution_count": 1,
   "metadata": {
    "ExecuteTime": {
     "end_time": "2018-01-09T10:04:56.742237Z",
     "start_time": "2018-01-09T10:04:53.560327Z"
    }
   },
   "outputs": [
    {
     "name": "stderr",
     "output_type": "stream",
     "text": [
      "/Users/attia/Desktop/Work/workenv/lib/python3.6/importlib/_bootstrap.py:219: RuntimeWarning: compiletime version 3.5 of module 'tensorflow.python.framework.fast_tensor_util' does not match runtime version 3.6\n",
      "  return f(*args, **kwds)\n"
     ]
    }
   ],
   "source": [
    "import time\n",
    "import os\n",
    "\n",
    "# Train on CPU (hide GPU) due to memory constraints\n",
    "os.environ['CUDA_VISIBLE_DEVICES'] = \"\"\n",
    "import pandas as pd\n",
    "import tensorflow as tf\n",
    "import numpy as np\n",
    "import scipy.sparse as sp\n",
    "import scipy\n",
    "from sklearn.metrics import roc_auc_score\n",
    "from sklearn.metrics import average_precision_score\n",
    "import sys\n",
    "sys.path.append('../gae/')\n",
    "from gae.optimizer import OptimizerAE, OptimizerVAE\n",
    "from gae.input_data import load_data, parse_index_file\n",
    "from gae.model import GCNModelAE, GCNModelVAE\n",
    "from gae.preprocessing import preprocess_graph, construct_feed_dict, sparse_to_tuple, mask_test_edges"
   ]
  },
  {
   "cell_type": "code",
   "execution_count": 2,
   "metadata": {
    "ExecuteTime": {
     "end_time": "2018-01-09T10:04:56.757448Z",
     "start_time": "2018-01-09T10:04:56.744365Z"
    }
   },
   "outputs": [],
   "source": [
    "# Settings\n",
    "flags = tf.app.flags\n",
    "FLAGS = flags.FLAGS\n",
    "flags.DEFINE_float('learning_rate', 0.01, 'Initial learning rate.')\n",
    "flags.DEFINE_integer('epochs', 200, 'Number of epochs to train.')\n",
    "flags.DEFINE_integer('hidden1', 32, 'Number of units in hidden layer 1.')\n",
    "flags.DEFINE_integer('hidden2', 16, 'Number of units in hidden layer 2.')\n",
    "flags.DEFINE_float('weight_decay', 0., 'Weight for L2 loss on embedding matrix.')\n",
    "flags.DEFINE_float('dropout', 0., 'Dropout rate (1 - keep probability).')\n",
    "\n",
    "flags.DEFINE_string('model', 'gcn_ae', 'Model string.')\n",
    "flags.DEFINE_string('dataset', 'cora', 'Dataset string.')\n",
    "flags.DEFINE_integer('features', 1, 'Whether to use features (1) or not (0).')\n",
    "\n",
    "model_str = FLAGS.model\n",
    "dataset_str = FLAGS.dataset"
   ]
  },
  {
   "cell_type": "markdown",
   "metadata": {
    "ExecuteTime": {
     "end_time": "2018-01-08T10:59:32.721671Z",
     "start_time": "2018-01-08T10:59:32.719495Z"
    }
   },
   "source": [
    "## Load and preprocessing data"
   ]
  },
  {
   "cell_type": "code",
   "execution_count": 3,
   "metadata": {
    "ExecuteTime": {
     "end_time": "2018-01-09T10:04:57.061391Z",
     "start_time": "2018-01-09T10:04:56.758959Z"
    }
   },
   "outputs": [
    {
     "name": "stdout",
     "output_type": "stream",
     "text": [
      "Adjacency Matrix (878, 878), Bi-Partite (=Features) Matrix (878, 290)\n"
     ]
    }
   ],
   "source": [
    "# X : (n,m) history matrix\n",
    "# A : (n,n) questions adjacency matrix\n",
    "X = pd.read_hdf('history_small.hdf', key='hist') #_small\n",
    "A = pd.read_pickle('adjacency_small.pkl') #_small\n",
    "A = A[sorted(A.columns)]\n",
    "\n",
    "# Re-encoding A, X\n",
    "X[X==1] = 2  #valid\n",
    "X[X==0] = 1 #not valid\n",
    "X[X==-100] = 0 #missing\n",
    "X = X.astype(float)\n",
    "\n",
    "# Thresholding A to have a non fully-connected graphs\n",
    "A[A<=0.7] = 0\n",
    "\n",
    "# Convert to sparse matrices\n",
    "adj = scipy.sparse.csr_matrix(A.values)\n",
    "features = scipy.sparse.csr_matrix(X)\n",
    "\n",
    "print('Adjacency Matrix %s, Bi-Partite (=Features) Matrix %s' % (adj.shape, features.shape))\n",
    "\n",
    "# Adjacency diagonal must be null\n",
    "adj_orig = adj\n",
    "adj_orig = adj_orig - sp.dia_matrix((adj_orig.diagonal()[np.newaxis, :], [0]), shape=adj_orig.shape)\n",
    "adj_orig.eliminate_zeros()\n",
    "\n",
    "adj = adj - sp.dia_matrix((adj.diagonal()[np.newaxis, :], [0]), shape=adj.shape)\n",
    "adj.eliminate_zeros()\n",
    "#assert np.diag(adj.todense()).sum() == 0"
   ]
  },
  {
   "cell_type": "code",
   "execution_count": 4,
   "metadata": {
    "ExecuteTime": {
     "end_time": "2018-01-09T10:05:00.400983Z",
     "start_time": "2018-01-09T10:05:00.371713Z"
    }
   },
   "outputs": [
    {
     "data": {
      "text/plain": [
       "<878x878 sparse matrix of type '<class 'numpy.float64'>'\n",
       "\twith 516510 stored elements in Compressed Sparse Row format>"
      ]
     },
     "execution_count": 4,
     "metadata": {},
     "output_type": "execute_result"
    }
   ],
   "source": [
    "scipy.sparse.csr_matrix(A.values)"
   ]
  },
  {
   "cell_type": "markdown",
   "metadata": {},
   "source": [
    "## Plot BiPartite Graph"
   ]
  },
  {
   "cell_type": "code",
   "execution_count": 59,
   "metadata": {
    "ExecuteTime": {
     "end_time": "2018-01-09T10:25:34.938108Z",
     "start_time": "2018-01-09T10:25:34.932513Z"
    }
   },
   "outputs": [],
   "source": [
    "users_idx = np.random.choice(X.columns, 20)\n",
    "ex_idx = np.random.choice(X.index, 40)\n",
    "temp = X.loc[ex_idx][users_idx]"
   ]
  },
  {
   "cell_type": "code",
   "execution_count": 60,
   "metadata": {
    "ExecuteTime": {
     "end_time": "2018-01-09T10:25:35.706196Z",
     "start_time": "2018-01-09T10:25:35.692184Z"
    }
   },
   "outputs": [],
   "source": [
    "def nx_graph_from_biadjacency_matrix(M):\n",
    "    # Give names to the nodes in the two node sets\n",
    "    U = [ \"Q{}\".format(i) for i in range(M.shape[0]) ]\n",
    "    V = [ \"U{}\".format(i) for i in range(M.shape[1]) ]\n",
    "\n",
    "    # Create the graph and add each set of nodes\n",
    "    G = nx.Graph()\n",
    "    G.add_nodes_from(U, bipartite=0)\n",
    "    G.add_nodes_from(V, bipartite=1)\n",
    "\n",
    "    # Find the non-zero indices in the biadjacency matrix to connect \n",
    "    # those nodes\n",
    "    G.add_edges_from([ (U[i], V[j]) for i, j in zip(*M.nonzero()) ])\n",
    "\n",
    "    return G"
   ]
  },
  {
   "cell_type": "code",
   "execution_count": 61,
   "metadata": {
    "ExecuteTime": {
     "end_time": "2018-01-09T10:25:36.638111Z",
     "start_time": "2018-01-09T10:25:36.635234Z"
    }
   },
   "outputs": [],
   "source": [
    "M = scipy.sparse.csc_matrix(temp)"
   ]
  },
  {
   "cell_type": "code",
   "execution_count": 63,
   "metadata": {
    "ExecuteTime": {
     "end_time": "2018-01-09T10:26:48.130525Z",
     "start_time": "2018-01-09T10:26:47.748800Z"
    }
   },
   "outputs": [
    {
     "data": {
      "image/png": "[encoded data removed]",
      "text/plain": [
       "<matplotlib.figure.Figure at 0x11ac108d0>"
      ]
     },
     "metadata": {},
     "output_type": "display_data"
    }
   ],
   "source": [
    "import networkx as nx, numpy as np\n",
    "from networkx.algorithms import bipartite\n",
    "from scipy.sparse import csc_matrix\n",
    "import matplotlib.pyplot as plt\n",
    "%matplotlib inline\n",
    "\n",
    "#RB = nx.complete_bipartite_graph(3, 2)\n",
    "#A  = csc_matrix(bipartite.biadjacency_matrix(RB, row_order=bipartite.sets(RB)[0]))\n",
    "G = nx_graph_from_biadjacency_matrix(M)\n",
    "nx.draw_circular(G, node_color = \"red\", with_labels = True, font_size=8)"
   ]
  },
  {
   "cell_type": "markdown",
   "metadata": {},
   "source": [
    "## Train/Val/Test set split"
   ]
  },
  {
   "cell_type": "code",
   "execution_count": 4,
   "metadata": {
    "ExecuteTime": {
     "end_time": "2018-01-08T11:12:00.521381Z",
     "start_time": "2018-01-08T11:12:00.516954Z"
    }
   },
   "outputs": [],
   "source": [
    "def ismember(a, b, tol=5):\n",
    "    rows_close = np.all(np.round(a - b[:, None], tol) == 0, axis=-1)\n",
    "    return (np.all(np.any(rows_close, axis=-1), axis=-1) and\n",
    "            np.all(np.any(rows_close, axis=0), axis=0))"
   ]
  },
  {
   "cell_type": "code",
   "execution_count": 5,
   "metadata": {
    "ExecuteTime": {
     "end_time": "2018-01-08T11:12:01.110594Z",
     "start_time": "2018-01-08T11:12:01.051172Z"
    }
   },
   "outputs": [],
   "source": [
    "# 5% of data for val and test set\n",
    "adj_triu = sp.triu(adj)\n",
    "adj_tuple = sparse_to_tuple(adj_triu)\n",
    "edges = adj_tuple[0]\n",
    "edges_all = sparse_to_tuple(adj)[0]\n",
    "num_test = int(np.floor(edges.shape[0] / 20.))\n",
    "num_val = int(np.floor(edges.shape[0] / 20.))\n",
    "\n",
    "# Get edges for sets\n",
    "all_edge_idx = list(range(edges.shape[0]))\n",
    "np.random.shuffle(all_edge_idx)\n",
    "val_edge_idx = all_edge_idx[:num_val]\n",
    "test_edge_idx = all_edge_idx[num_val:(num_val + num_test)]\n",
    "test_edges = edges[test_edge_idx]\n",
    "val_edges = edges[val_edge_idx]\n",
    "train_edges = np.delete(edges, np.hstack([test_edge_idx, val_edge_idx]), axis=0)"
   ]
  },
  {
   "cell_type": "code",
   "execution_count": 6,
   "metadata": {
    "ExecuteTime": {
     "end_time": "2018-01-08T11:13:27.490814Z",
     "start_time": "2018-01-08T11:12:02.323479Z"
    }
   },
   "outputs": [
    {
     "name": "stdout",
     "output_type": "stream",
     "text": [
      " Test Edges False 12890 / Test Edges 12890"
     ]
    }
   ],
   "source": [
    "test_edges_false = []\n",
    "while len(test_edges_false) < len(test_edges):\n",
    "    idx_i = np.random.randint(0, adj.shape[0])\n",
    "    idx_j = np.random.randint(0, adj.shape[0])\n",
    "    if idx_i == idx_j:\n",
    "        continue\n",
    "    if ismember([idx_i, idx_j], edges_all):\n",
    "        continue\n",
    "    if test_edges_false:\n",
    "        if ismember([idx_j, idx_i], np.array(test_edges_false)):\n",
    "            continue\n",
    "        if ismember([idx_i, idx_j], np.array(test_edges_false)):\n",
    "            continue\n",
    "    test_edges_false.append([idx_i, idx_j])\n",
    "    print('\\r Test Edges False %d / Test Edges %d' % (len(test_edges_false), len(test_edges)), end='')"
   ]
  },
  {
   "cell_type": "code",
   "execution_count": 7,
   "metadata": {
    "ExecuteTime": {
     "end_time": "2018-01-08T11:17:08.598190Z",
     "start_time": "2018-01-08T11:13:27.492347Z"
    }
   },
   "outputs": [
    {
     "name": "stdout",
     "output_type": "stream",
     "text": [
      " Val Edges False 12890 / Val Edges 12890"
     ]
    }
   ],
   "source": [
    "val_edges_false = []\n",
    "while len(val_edges_false) < len(val_edges):\n",
    "    idx_i = np.random.randint(0, adj.shape[0])\n",
    "    idx_j = np.random.randint(0, adj.shape[0])\n",
    "    if idx_i == idx_j:\n",
    "        continue\n",
    "    if ismember([idx_i, idx_j], train_edges):\n",
    "        continue\n",
    "    if ismember([idx_j, idx_i], train_edges):\n",
    "        continue\n",
    "    if ismember([idx_i, idx_j], val_edges):\n",
    "        continue\n",
    "    if ismember([idx_j, idx_i], val_edges):\n",
    "        continue\n",
    "    if val_edges_false:\n",
    "        if ismember([idx_j, idx_i], np.array(val_edges_false)):\n",
    "            continue\n",
    "        if ismember([idx_i, idx_j], np.array(val_edges_false)):\n",
    "            continue\n",
    "    val_edges_false.append([idx_i, idx_j])\n",
    "    print('\\r Val Edges False %d / Val Edges %d' % (len(test_edges_false), len(test_edges)), end='')"
   ]
  },
  {
   "cell_type": "code",
   "execution_count": 8,
   "metadata": {
    "ExecuteTime": {
     "end_time": "2018-01-08T11:17:08.613744Z",
     "start_time": "2018-01-08T11:17:08.600242Z"
    }
   },
   "outputs": [],
   "source": [
    "# Re-create adjacency matrix for training\n",
    "data = np.ones(train_edges.shape[0])\n",
    "# Re-build adj matrix\n",
    "adj_train = sp.csr_matrix((data, (train_edges[:, 0], train_edges[:, 1])), shape=adj.shape)\n",
    "adj_train = adj_train + adj_train.T"
   ]
  },
  {
   "cell_type": "code",
   "execution_count": 9,
   "metadata": {
    "ExecuteTime": {
     "end_time": "2018-01-08T11:17:08.659519Z",
     "start_time": "2018-01-08T11:17:08.615590Z"
    }
   },
   "outputs": [],
   "source": [
    "# Some preprocessing\n",
    "# Add identity to avoid vanishing gradient and normalization\n",
    "adj_norm = preprocess_graph(adj)"
   ]
  },
  {
   "cell_type": "markdown",
   "metadata": {},
   "source": [
    "## Model"
   ]
  },
  {
   "cell_type": "code",
   "execution_count": 10,
   "metadata": {
    "ExecuteTime": {
     "end_time": "2018-01-08T11:34:59.974008Z",
     "start_time": "2018-01-08T11:34:59.935693Z"
    }
   },
   "outputs": [],
   "source": [
    "def get_roc_score(edges_pos, edges_neg, emb=None):\n",
    "    if emb is None:\n",
    "        feed_dict.update({placeholders['dropout']: 0})\n",
    "        emb = sess.run(model.z_mean, feed_dict=feed_dict)\n",
    "\n",
    "    def sigmoid(x):\n",
    "        return 1 / (1 + np.exp(-x))\n",
    "\n",
    "    # Predict on test set of edges\n",
    "    adj_rec = np.dot(emb, emb.T)\n",
    "    preds = []\n",
    "    pos = []\n",
    "    for e in edges_pos:\n",
    "        preds.append(sigmoid(adj_rec[e[0], e[1]]))\n",
    "        pos.append(adj_orig[e[0], e[1]])\n",
    "\n",
    "    preds_neg = []\n",
    "    neg = []\n",
    "    for e in edges_neg:\n",
    "        preds_neg.append(sigmoid(adj_rec[e[0], e[1]]))\n",
    "        neg.append(adj_orig[e[0], e[1]])\n",
    "\n",
    "    preds_all = np.hstack([preds, preds_neg])\n",
    "    labels_all = np.hstack([np.ones(len(preds)), np.zeros(len(preds))])\n",
    "    roc_score = roc_auc_score(labels_all, preds_all)\n",
    "    # preds all : Target scores, can either be probability estimates of the positive class, \n",
    "    # confidence values, or non-thresholded measure of decisions\n",
    "    # labels_all : True binary labels in binary label indicators.\n",
    "    ap_score = average_precision_score(labels_all, preds_all)\n",
    "    return roc_score, ap_score"
   ]
  },
  {
   "cell_type": "code",
   "execution_count": 11,
   "metadata": {
    "ExecuteTime": {
     "end_time": "2018-01-08T11:35:02.548923Z",
     "start_time": "2018-01-08T11:35:02.518852Z"
    }
   },
   "outputs": [],
   "source": [
    "# Define placeholders\n",
    "placeholders = {\n",
    "    'features': tf.sparse_placeholder(tf.float32),\n",
    "    'adj': tf.sparse_placeholder(tf.float32),\n",
    "    'adj_orig': tf.sparse_placeholder(tf.float32),\n",
    "    'dropout': tf.placeholder_with_default(0., shape=())\n",
    "}"
   ]
  },
  {
   "cell_type": "code",
   "execution_count": 12,
   "metadata": {
    "ExecuteTime": {
     "end_time": "2018-01-08T11:35:03.985349Z",
     "start_time": "2018-01-08T11:35:03.981212Z"
    }
   },
   "outputs": [],
   "source": [
    "# num_nodes = adj.shape[0]\n",
    "features = sparse_to_tuple(features.tocoo())\n",
    "num_features = features[2][1]\n",
    "features_nonzero = features[1].shape[0]"
   ]
  },
  {
   "cell_type": "code",
   "execution_count": 13,
   "metadata": {
    "ExecuteTime": {
     "end_time": "2018-01-08T11:35:05.078251Z",
     "start_time": "2018-01-08T11:35:05.012716Z"
    }
   },
   "outputs": [],
   "source": [
    "# Create model\n",
    "model = GCNModelAE(placeholders, num_features, features_nonzero)\n",
    "\n",
    "pos_weight = float(adj.shape[0] * adj.shape[0] - adj.sum()) / adj.sum()\n",
    "norm = adj.shape[0] * adj.shape[0] / float((adj.shape[0] * adj.shape[0] - adj.sum()) * 2)"
   ]
  },
  {
   "cell_type": "code",
   "execution_count": 14,
   "metadata": {
    "ExecuteTime": {
     "end_time": "2018-01-08T11:35:06.705448Z",
     "start_time": "2018-01-08T11:35:06.318123Z"
    }
   },
   "outputs": [],
   "source": [
    "# Optimizer\n",
    "with tf.name_scope('optimizer'):\n",
    "    opt = OptimizerAE(preds=model.reconstructions,\n",
    "                      labels=tf.reshape(tf.sparse_tensor_to_dense(placeholders['adj_orig'],\n",
    "                                                                  validate_indices=False), [-1]),\n",
    "                      pos_weight=pos_weight,\n",
    "                      norm=norm)"
   ]
  },
  {
   "cell_type": "markdown",
   "metadata": {},
   "source": [
    "## Training"
   ]
  },
  {
   "cell_type": "code",
   "execution_count": 16,
   "metadata": {
    "ExecuteTime": {
     "end_time": "2018-01-08T11:40:21.852447Z",
     "start_time": "2018-01-08T11:35:31.903452Z"
    },
    "scrolled": true
   },
   "outputs": [
    {
     "name": "stdout",
     "output_type": "stream",
     "text": [
      "Epoch: 0020 train_loss= 0.64663 train_acc= 0.61724 val_roc= 0.61479 val_ap= 0.57956 time= 1.41134\n",
      "Epoch: 0040 train_loss= 0.60814 train_acc= 0.71174 val_roc= 0.59819 val_ap= 0.57030 time= 1.41021\n",
      "Epoch: 0060 train_loss= 0.56678 train_acc= 0.74603 val_roc= 0.60953 val_ap= 0.57247 time= 1.48292\n",
      "Epoch: 0080 train_loss= 0.56231 train_acc= 0.74616 val_roc= 0.60813 val_ap= 0.57117 time= 1.40818\n",
      "Epoch: 0100 train_loss= 0.56050 train_acc= 0.74784 val_roc= 0.60846 val_ap= 0.57105 time= 1.40690\n",
      "Epoch: 0120 train_loss= 0.55853 train_acc= 0.74973 val_roc= 0.60974 val_ap= 0.57192 time= 1.37873\n",
      "Epoch: 0140 train_loss= 0.55570 train_acc= 0.75201 val_roc= 0.61121 val_ap= 0.57283 time= 1.41893\n",
      "Epoch: 0160 train_loss= 0.55087 train_acc= 0.75496 val_roc= 0.61361 val_ap= 0.57433 time= 1.40120\n",
      "Epoch: 0180 train_loss= 0.54251 train_acc= 0.75879 val_roc= 0.61740 val_ap= 0.57670 time= 1.41120\n",
      "Epoch: 0200 train_loss= 0.53032 train_acc= 0.76403 val_roc= 0.62184 val_ap= 0.58003 time= 1.42551\n",
      "Early stopping at epoch 204\n",
      "Optimization Finished!\n"
     ]
    }
   ],
   "source": [
    "# Initialize session\n",
    "sess = tf.Session()\n",
    "sess.run(tf.global_variables_initializer())\n",
    "\n",
    "cost_val = []\n",
    "acc_val = []\n",
    "val_roc_score = []\n",
    "\n",
    "adj_label = adj_train + sp.eye(adj_train.shape[0])\n",
    "adj_label = sparse_to_tuple(adj_label)\n",
    "\n",
    "# Train model\n",
    "for epoch in range(500):\n",
    "\n",
    "    t = time.time()\n",
    "    # Construct feed dictionary\n",
    "    feed_dict = construct_feed_dict(adj_norm, adj_label, features, placeholders)\n",
    "    feed_dict.update({placeholders['dropout']: FLAGS.dropout})\n",
    "    # Run single weight update\n",
    "    outs = sess.run([opt.opt_op, opt.cost, opt.accuracy], feed_dict=feed_dict)\n",
    "\n",
    "    # Compute average loss\n",
    "    avg_cost = outs[1]\n",
    "    avg_accuracy = outs[2]\n",
    "\n",
    "    roc_curr, ap_curr = get_roc_score(val_edges, val_edges_false)\n",
    "    val_roc_score.append(roc_curr)\n",
    "\n",
    "    if (epoch + 1) % 20 == 0:\n",
    "        print(\"Epoch:\", '%04d' % (epoch + 1), \"train_loss=\", \"{:.5f}\".format(avg_cost),\n",
    "              \"train_acc=\", \"{:.5f}\".format(avg_accuracy), \"val_roc=\", \"{:.5f}\".format(val_roc_score[-1]),\n",
    "              \"val_ap=\", \"{:.5f}\".format(ap_curr),\n",
    "              \"time=\", \"{:.5f}\".format(time.time() - t))\n",
    "    \n",
    "    if epoch > 200 and val_roc_score[-1] < np.mean(val_roc_score[-15:-1]):\n",
    "        print(\"Early stopping at epoch %d\" % (epoch + 1))\n",
    "        break\n",
    "\n",
    "print(\"Optimization Finished!\")"
   ]
  },
  {
   "cell_type": "markdown",
   "metadata": {},
   "source": [
    "## Testing"
   ]
  },
  {
   "cell_type": "code",
   "execution_count": 17,
   "metadata": {
    "ExecuteTime": {
     "end_time": "2018-01-08T11:40:31.894419Z",
     "start_time": "2018-01-08T11:40:30.593674Z"
    }
   },
   "outputs": [
    {
     "name": "stdout",
     "output_type": "stream",
     "text": [
      "Test ROC score: 0.617526696924\n",
      "Test AP score: 0.575433648334\n"
     ]
    }
   ],
   "source": [
    "roc_score, ap_score = get_roc_score(test_edges, test_edges_false)\n",
    "print('Test ROC score: ' + str(roc_score))\n",
    "print('Test AP score: ' + str(ap_score))"
   ]
  },
  {
   "cell_type": "code",
   "execution_count": 18,
   "metadata": {
    "ExecuteTime": {
     "end_time": "2018-01-08T11:41:25.568799Z",
     "start_time": "2018-01-08T11:41:24.888943Z"
    }
   },
   "outputs": [],
   "source": [
    "def sigmoid(x):\n",
    "    return 1 / (1 + np.exp(-x))\n",
    "\n",
    "edges_pos = test_edges\n",
    "edges_neg = test_edges_false\n",
    "feed_dict.update({placeholders['dropout']: 0})\n",
    "emb = sess.run(model.z_mean, feed_dict=feed_dict)\n",
    "\n",
    "# Predict on test set of edges\n",
    "adj_rec = np.dot(emb, emb.T)\n",
    "preds = []\n",
    "pos = []\n",
    "for e in edges_pos:\n",
    "    preds.append(sigmoid(adj_rec[e[0], e[1]]))\n",
    "    #pos.append(adj_orig[e[0], e[1]])\n",
    "\n",
    "preds_neg = []\n",
    "neg = []\n",
    "for e in edges_neg:\n",
    "    preds_neg.append(sigmoid(adj_rec[e[0], e[1]]))\n",
    "    neg.append(adj_orig[e[0], e[1]])\n",
    "    \n",
    "preds_all = np.hstack([preds, preds_neg])\n",
    "preds_values = [round(k)+1 for k in preds_all]"
   ]
  },
  {
   "cell_type": "code",
   "execution_count": 40,
   "metadata": {
    "ExecuteTime": {
     "end_time": "2018-01-08T11:46:51.970297Z",
     "start_time": "2018-01-08T11:46:51.962712Z"
    }
   },
   "outputs": [
    {
     "name": "stdout",
     "output_type": "stream",
     "text": [
      "The test set contains 25780 edges\n"
     ]
    }
   ],
   "source": [
    "print('The test set contains %d edges' % (test_edges.shape[0]+np.array(test_edges_false).shape[0]))"
   ]
  },
  {
   "cell_type": "code",
   "execution_count": 38,
   "metadata": {
    "ExecuteTime": {
     "end_time": "2018-01-08T11:46:06.593115Z",
     "start_time": "2018-01-08T11:46:06.587423Z"
    }
   },
   "outputs": [
    {
     "name": "stdout",
     "output_type": "stream",
     "text": [
      "The weight between two nodes is the validness of the answer between a student and a question.\n",
      "The edge between nodes [384 750] has a predicted weight of 2.\n",
      "The edge between nodes [223, 417] has a predicted weight of 1.\n"
     ]
    }
   ],
   "source": [
    "idx = np.random.choice(test_edges.shape[0])\n",
    "print('The weight between two nodes is the validness of the answer between a student and a question.')\n",
    "print('The edge between nodes %s has a predicted weight of %d.' % (test_edges[idx], preds_values[idx]))\n",
    "print('The edge between nodes %s has a predicted weight of %d.' % (test_edges_false[1], \n",
    "                                                                  preds_values[len(test_edges)+1]))"
   ]
  },
  {
   "cell_type": "code",
   "execution_count": 46,
   "metadata": {
    "ExecuteTime": {
     "end_time": "2018-01-08T11:49:04.280753Z",
     "start_time": "2018-01-08T11:49:04.276595Z"
    }
   },
   "outputs": [
    {
     "data": {
      "text/plain": [
       "(869, 877)"
      ]
     },
     "execution_count": 46,
     "metadata": {},
     "output_type": "execute_result"
    }
   ],
   "source": [
    "test_edges[:,0].max(), test_edges[:,1].max()"
   ]
  },
  {
   "cell_type": "code",
   "execution_count": null,
   "metadata": {},
   "outputs": [],
   "source": []
  }
 ],
 "metadata": {
  "kernelspec": {
   "display_name": "Python 3",
   "language": "python",
   "name": "python3"
  },
  "language_info": {
   "codemirror_mode": {
    "name": "ipython",
    "version": 3
   },
   "file_extension": ".py",
   "mimetype": "text/x-python",
   "name": "python",
   "nbconvert_exporter": "python",
   "pygments_lexer": "ipython3",
   "version": "3.6.3"
  },
  "toc": {
   "nav_menu": {},
   "number_sections": true,
   "sideBar": true,
   "skip_h1_title": false,
   "toc_cell": false,
   "toc_position": {},
   "toc_section_display": "block",
   "toc_window_display": false
  }
 },
 "nbformat": 4,
 "nbformat_minor": 1
}
