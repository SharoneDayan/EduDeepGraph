{
 "cells": [
  {
   "cell_type": "code",
   "execution_count": 1,
   "metadata": {
    "collapsed": false
   },
   "outputs": [],
   "source": [
    "from __future__ import division\n",
    "from __future__ import print_function\n",
    "\n",
    "import time\n",
    "import os\n",
    "\n",
    "# Train on CPU (hide GPU) due to memory constraints\n",
    "os.environ['CUDA_VISIBLE_DEVICES'] = \"\"\n",
    "import pandas as pd\n",
    "import tensorflow as tf\n",
    "import numpy as np\n",
    "import scipy.sparse as sp\n",
    "import scipy\n",
    "from sklearn.metrics import roc_auc_score\n",
    "from sklearn.metrics import average_precision_score\n",
    "from gae.optimizer import OptimizerAE, OptimizerVAE\n",
    "from gae.input_data import load_data, parse_index_file\n",
    "from gae.model import GCNModelAE, GCNModelVAE\n",
    "from gae.preprocessing import preprocess_graph, construct_feed_dict, sparse_to_tuple, mask_test_edges"
   ]
  },
  {
   "cell_type": "code",
   "execution_count": 2,
   "metadata": {
    "collapsed": false
   },
   "outputs": [],
   "source": [
    "# Settings\n",
    "flags = tf.app.flags\n",
    "FLAGS = flags.FLAGS\n",
    "flags.DEFINE_float('learning_rate', 0.01, 'Initial learning rate.')\n",
    "flags.DEFINE_integer('epochs', 200, 'Number of epochs to train.')\n",
    "flags.DEFINE_integer('hidden1', 32, 'Number of units in hidden layer 1.')\n",
    "flags.DEFINE_integer('hidden2', 16, 'Number of units in hidden layer 2.')\n",
    "flags.DEFINE_float('weight_decay', 0., 'Weight for L2 loss on embedding matrix.')\n",
    "flags.DEFINE_float('dropout', 0., 'Dropout rate (1 - keep probability).')\n",
    "\n",
    "flags.DEFINE_string('model', 'gcn_ae', 'Model string.')\n",
    "flags.DEFINE_string('dataset', 'cora', 'Dataset string.')\n",
    "flags.DEFINE_integer('features', 1, 'Whether to use features (1) or not (0).')\n",
    "\n",
    "model_str = FLAGS.model\n",
    "dataset_str = FLAGS.dataset"
   ]
  },
  {
   "cell_type": "code",
   "execution_count": 3,
   "metadata": {
    "collapsed": false
   },
   "outputs": [],
   "source": [
    "X = pd.read_hdf('history_small.hdf', key='hist') #_small\n",
    "A = pd.read_pickle('adjacency_small.pkl') #_small\n",
    "A = A[sorted(A.columns)]"
   ]
  },
  {
   "cell_type": "code",
   "execution_count": 4,
   "metadata": {
    "collapsed": false
   },
   "outputs": [
    {
     "data": {
      "text/plain": [
       "array([ 0.,  1.,  2.])"
      ]
     },
     "execution_count": 4,
     "metadata": {},
     "output_type": "execute_result"
    }
   ],
   "source": [
    "X[X==1] = 2 #10 #valid\n",
    "X[X==0] = 1 #not valid\n",
    "X[X==-100] = 0 #missing\n",
    "X = X.astype(float)\n",
    "np.unique(X)"
   ]
  },
  {
   "cell_type": "code",
   "execution_count": 5,
   "metadata": {
    "collapsed": false
   },
   "outputs": [
    {
     "data": {
      "text/plain": [
       "0.7434050630239977"
      ]
     },
     "execution_count": 5,
     "metadata": {},
     "output_type": "execute_result"
    }
   ],
   "source": [
    "A.mean().mean()"
   ]
  },
  {
   "cell_type": "code",
   "execution_count": 6,
   "metadata": {
    "collapsed": false
   },
   "outputs": [],
   "source": [
    "A[A<=0.7] = 0"
   ]
  },
  {
   "cell_type": "code",
   "execution_count": 7,
   "metadata": {
    "collapsed": false
   },
   "outputs": [],
   "source": [
    "adj = scipy.sparse.csr_matrix(A.values)\n",
    "features = scipy.sparse.csr_matrix(X)#np.asmatrix(X)"
   ]
  },
  {
   "cell_type": "code",
   "execution_count": 8,
   "metadata": {
    "collapsed": false
   },
   "outputs": [
    {
     "name": "stdout",
     "output_type": "stream",
     "text": [
      "(878, 290) (878, 878)\n",
      "<class 'scipy.sparse.csr.csr_matrix'> <class 'scipy.sparse.csr.csr_matrix'>\n"
     ]
    }
   ],
   "source": [
    "print(features.shape, adj.shape)\n",
    "print(type(features), type(adj)) "
   ]
  },
  {
   "cell_type": "code",
   "execution_count": 9,
   "metadata": {
    "collapsed": false
   },
   "outputs": [
    {
     "data": {
      "text/plain": [
       "<878x878 sparse matrix of type '<class 'numpy.float64'>'\n",
       "\twith 516510 stored elements in Compressed Sparse Row format>"
      ]
     },
     "execution_count": 9,
     "metadata": {},
     "output_type": "execute_result"
    }
   ],
   "source": [
    "adj"
   ]
  },
  {
   "cell_type": "code",
   "execution_count": 10,
   "metadata": {
    "collapsed": false
   },
   "outputs": [
    {
     "data": {
      "text/plain": [
       "<878x290 sparse matrix of type '<class 'numpy.float64'>'\n",
       "\twith 8821 stored elements in Compressed Sparse Row format>"
      ]
     },
     "execution_count": 10,
     "metadata": {},
     "output_type": "execute_result"
    }
   ],
   "source": [
    "features"
   ]
  },
  {
   "cell_type": "code",
   "execution_count": 11,
   "metadata": {
    "collapsed": true
   },
   "outputs": [],
   "source": [
    "# Store original adjacency matrix (without diagonal entries) for later\n",
    "adj_orig = adj\n",
    "adj_orig = adj_orig - sp.dia_matrix((adj_orig.diagonal()[np.newaxis, :], [0]), shape=adj_orig.shape)\n",
    "adj_orig.eliminate_zeros()"
   ]
  },
  {
   "cell_type": "code",
   "execution_count": 12,
   "metadata": {
    "collapsed": true
   },
   "outputs": [],
   "source": [
    "adj = adj - sp.dia_matrix((adj.diagonal()[np.newaxis, :], [0]), shape=adj.shape)\n",
    "adj.eliminate_zeros()\n",
    "# Check that diag is zero:\n",
    "assert np.diag(adj.todense()).sum() == 0\n",
    "\n",
    "adj_triu = sp.triu(adj)\n",
    "adj_tuple = sparse_to_tuple(adj_triu)\n",
    "edges = adj_tuple[0]\n",
    "edges_all = sparse_to_tuple(adj)[0]\n",
    "num_test = int(np.floor(edges.shape[0] / 40.))\n",
    "num_val = int(np.floor(edges.shape[0] / 40.))\n",
    "\n",
    "all_edge_idx = list(range(edges.shape[0]))\n",
    "np.random.shuffle(all_edge_idx)\n",
    "val_edge_idx = all_edge_idx[:num_val]\n",
    "test_edge_idx = all_edge_idx[num_val:(num_val + num_test)]\n",
    "test_edges = edges[test_edge_idx]\n",
    "val_edges = edges[val_edge_idx]\n",
    "train_edges = np.delete(edges, np.hstack([test_edge_idx, val_edge_idx]), axis=0)"
   ]
  },
  {
   "cell_type": "code",
   "execution_count": 13,
   "metadata": {
    "collapsed": false
   },
   "outputs": [],
   "source": [
    "def ismember(a, b, tol=5):\n",
    "    rows_close = np.all(np.round(a - b[:, None], tol) == 0, axis=-1)\n",
    "    return (np.all(np.any(rows_close, axis=-1), axis=-1) and\n",
    "            np.all(np.any(rows_close, axis=0), axis=0))"
   ]
  },
  {
   "cell_type": "code",
   "execution_count": 14,
   "metadata": {
    "collapsed": false
   },
   "outputs": [
    {
     "data": {
      "text/plain": [
       "6445"
      ]
     },
     "execution_count": 14,
     "metadata": {},
     "output_type": "execute_result"
    }
   ],
   "source": [
    "len(test_edges)"
   ]
  },
  {
   "cell_type": "code",
   "execution_count": 15,
   "metadata": {
    "collapsed": false
   },
   "outputs": [
    {
     "name": "stdout",
     "output_type": "stream",
     "text": [
      "6445 / 6445"
     ]
    }
   ],
   "source": [
    "test_edges_false = []\n",
    "while len(test_edges_false) < len(test_edges):\n",
    "    idx_i = np.random.randint(0, adj.shape[0])\n",
    "    idx_j = np.random.randint(0, adj.shape[0])\n",
    "    if idx_i == idx_j:\n",
    "        continue\n",
    "    if ismember([idx_i, idx_j], edges_all):\n",
    "        continue\n",
    "    if test_edges_false:\n",
    "        if ismember([idx_j, idx_i], np.array(test_edges_false)):\n",
    "            continue\n",
    "        if ismember([idx_i, idx_j], np.array(test_edges_false)):\n",
    "            continue\n",
    "    test_edges_false.append([idx_i, idx_j])\n",
    "    print('\\r%d / %d' % (len(test_edges_false), len(test_edges)), end='')"
   ]
  },
  {
   "cell_type": "code",
   "execution_count": 16,
   "metadata": {
    "collapsed": false
   },
   "outputs": [
    {
     "name": "stdout",
     "output_type": "stream",
     "text": [
      "6445 / 6445"
     ]
    }
   ],
   "source": [
    "val_edges_false = []\n",
    "while len(val_edges_false) < len(val_edges):\n",
    "    idx_i = np.random.randint(0, adj.shape[0])\n",
    "    idx_j = np.random.randint(0, adj.shape[0])\n",
    "    if idx_i == idx_j:\n",
    "        continue\n",
    "    if ismember([idx_i, idx_j], train_edges):\n",
    "        continue\n",
    "    if ismember([idx_j, idx_i], train_edges):\n",
    "        continue\n",
    "    if ismember([idx_i, idx_j], val_edges):\n",
    "        continue\n",
    "    if ismember([idx_j, idx_i], val_edges):\n",
    "        continue\n",
    "    if val_edges_false:\n",
    "        if ismember([idx_j, idx_i], np.array(val_edges_false)):\n",
    "            continue\n",
    "        if ismember([idx_i, idx_j], np.array(val_edges_false)):\n",
    "            continue\n",
    "    val_edges_false.append([idx_i, idx_j])\n",
    "    print('\\r%d / %d' % (len(val_edges_false), len(val_edges)), end='')"
   ]
  },
  {
   "cell_type": "code",
   "execution_count": 17,
   "metadata": {
    "collapsed": false
   },
   "outputs": [],
   "source": [
    "#assert ~ismember(test_edges_false, edges_all)\n",
    "#assert ~ismember(val_edges_false, edges_all)\n",
    "#assert ~ismember(val_edges, train_edges)\n",
    "#assert ~ismember(test_edges, train_edges)\n",
    "#assert ~ismember(val_edges, test_edges)"
   ]
  },
  {
   "cell_type": "code",
   "execution_count": 18,
   "metadata": {
    "collapsed": true
   },
   "outputs": [],
   "source": [
    "data = np.ones(train_edges.shape[0])\n",
    "# Re-build adj matrix\n",
    "adj_train = sp.csr_matrix((data, (train_edges[:, 0], train_edges[:, 1])), shape=adj.shape)\n",
    "adj_train = adj_train + adj_train.T"
   ]
  },
  {
   "cell_type": "code",
   "execution_count": 20,
   "metadata": {
    "collapsed": true
   },
   "outputs": [],
   "source": [
    "if FLAGS.features == 0:\n",
    "    features = sp.identity(features.shape[0])  # featureless"
   ]
  },
  {
   "cell_type": "code",
   "execution_count": 21,
   "metadata": {
    "collapsed": true
   },
   "outputs": [],
   "source": [
    "# Some preprocessing\n",
    "adj_norm = preprocess_graph(adj)"
   ]
  },
  {
   "cell_type": "code",
   "execution_count": 22,
   "metadata": {
    "collapsed": true
   },
   "outputs": [],
   "source": [
    "# Define placeholders\n",
    "placeholders = {\n",
    "    'features': tf.sparse_placeholder(tf.float32),\n",
    "    'adj': tf.sparse_placeholder(tf.float32),\n",
    "    'adj_orig': tf.sparse_placeholder(tf.float32),\n",
    "    'dropout': tf.placeholder_with_default(0., shape=())\n",
    "}"
   ]
  },
  {
   "cell_type": "code",
   "execution_count": 23,
   "metadata": {
    "collapsed": true
   },
   "outputs": [],
   "source": [
    "num_nodes = adj.shape[0]"
   ]
  },
  {
   "cell_type": "code",
   "execution_count": 24,
   "metadata": {
    "collapsed": false
   },
   "outputs": [],
   "source": [
    "features = sparse_to_tuple(features.tocoo())\n",
    "num_features = features[2][1]\n",
    "features_nonzero = features[1].shape[0]"
   ]
  },
  {
   "cell_type": "code",
   "execution_count": 25,
   "metadata": {
    "collapsed": true
   },
   "outputs": [],
   "source": [
    "# Create model\n",
    "model = None\n",
    "if model_str == 'gcn_ae':\n",
    "    model = GCNModelAE(placeholders, num_features, features_nonzero)\n",
    "elif model_str == 'gcn_vae':\n",
    "    model = GCNModelVAE(placeholders, num_features, num_nodes, features_nonzero)\n",
    "\n",
    "pos_weight = float(adj.shape[0] * adj.shape[0] - adj.sum()) / adj.sum()\n",
    "norm = adj.shape[0] * adj.shape[0] / float((adj.shape[0] * adj.shape[0] - adj.sum()) * 2)"
   ]
  },
  {
   "cell_type": "code",
   "execution_count": 26,
   "metadata": {
    "collapsed": true
   },
   "outputs": [],
   "source": [
    "# Optimizer\n",
    "with tf.name_scope('optimizer'):\n",
    "    if model_str == 'gcn_ae':\n",
    "        opt = OptimizerAE(preds=model.reconstructions,\n",
    "                          labels=tf.reshape(tf.sparse_tensor_to_dense(placeholders['adj_orig'],\n",
    "                                                                      validate_indices=False), [-1]),\n",
    "                          pos_weight=pos_weight,\n",
    "                          norm=norm)\n",
    "    elif model_str == 'gcn_vae':\n",
    "        opt = OptimizerVAE(preds=model.reconstructions,\n",
    "                           labels=tf.reshape(tf.sparse_tensor_to_dense(placeholders['adj_orig'],\n",
    "                                                                       validate_indices=False), [-1]),\n",
    "                           model=model, num_nodes=num_nodes,\n",
    "                           pos_weight=pos_weight,\n",
    "                           norm=norm)"
   ]
  },
  {
   "cell_type": "code",
   "execution_count": 27,
   "metadata": {
    "collapsed": true
   },
   "outputs": [],
   "source": [
    "# Initialize session\n",
    "sess = tf.Session()\n",
    "sess.run(tf.global_variables_initializer())\n",
    "\n",
    "cost_val = []\n",
    "acc_val = []"
   ]
  },
  {
   "cell_type": "code",
   "execution_count": 28,
   "metadata": {
    "collapsed": true
   },
   "outputs": [],
   "source": [
    "def get_roc_score(edges_pos, edges_neg, emb=None):\n",
    "    if emb is None:\n",
    "        feed_dict.update({placeholders['dropout']: 0})\n",
    "        emb = sess.run(model.z_mean, feed_dict=feed_dict)\n",
    "\n",
    "    def sigmoid(x):\n",
    "        return 1 / (1 + np.exp(-x))\n",
    "\n",
    "    # Predict on test set of edges\n",
    "    adj_rec = np.dot(emb, emb.T)\n",
    "    preds = []\n",
    "    pos = []\n",
    "    for e in edges_pos:\n",
    "        preds.append(sigmoid(adj_rec[e[0], e[1]]))\n",
    "        pos.append(adj_orig[e[0], e[1]])\n",
    "\n",
    "    preds_neg = []\n",
    "    neg = []\n",
    "    for e in edges_neg:\n",
    "        preds_neg.append(sigmoid(adj_rec[e[0], e[1]]))\n",
    "        neg.append(adj_orig[e[0], e[1]])\n",
    "\n",
    "    preds_all = np.hstack([preds, preds_neg])\n",
    "    labels_all = np.hstack([np.ones(len(preds)), np.zeros(len(preds))])\n",
    "    roc_score = roc_auc_score(labels_all, preds_all)\n",
    "    ap_score = average_precision_score(labels_all, preds_all)\n",
    "\n",
    "    return roc_score, ap_score"
   ]
  },
  {
   "cell_type": "code",
   "execution_count": 29,
   "metadata": {
    "collapsed": false
   },
   "outputs": [
    {
     "name": "stdout",
     "output_type": "stream",
     "text": [
      "Epoch: 0001 train_loss= 0.63571 train_acc= 0.63658 val_roc= 0.61626 val_ap= 0.58067 time= 0.99052\n",
      "Epoch: 0002 train_loss= 0.65905 train_acc= 0.63658 val_roc= 0.61574 val_ap= 0.58084 time= 0.83648\n",
      "Epoch: 0003 train_loss= 0.62683 train_acc= 0.63658 val_roc= 0.61535 val_ap= 0.58081 time= 0.86959\n",
      "Epoch: 0004 train_loss= 0.67172 train_acc= 0.63658 val_roc= 0.61552 val_ap= 0.58080 time= 0.88174\n",
      "Epoch: 0005 train_loss= 0.63305 train_acc= 0.63658 val_roc= 0.61572 val_ap= 0.58074 time= 1.05363\n",
      "Epoch: 0006 train_loss= 0.62703 train_acc= 0.63658 val_roc= 0.61581 val_ap= 0.58074 time= 0.89834\n",
      "Epoch: 0007 train_loss= 0.63601 train_acc= 0.63658 val_roc= 0.61590 val_ap= 0.58073 time= 0.86383\n",
      "Epoch: 0008 train_loss= 0.64218 train_acc= 0.63658 val_roc= 0.61585 val_ap= 0.58073 time= 0.87182\n",
      "Epoch: 0009 train_loss= 0.64298 train_acc= 0.63658 val_roc= 0.61573 val_ap= 0.58076 time= 0.97224\n",
      "Epoch: 0010 train_loss= 0.63995 train_acc= 0.63658 val_roc= 0.61555 val_ap= 0.58077 time= 0.89961\n",
      "Epoch: 0011 train_loss= 0.63435 train_acc= 0.63658 val_roc= 0.61535 val_ap= 0.58079 time= 0.87704\n",
      "Epoch: 0012 train_loss= 0.62829 train_acc= 0.63658 val_roc= 0.61514 val_ap= 0.58080 time= 0.86803\n",
      "Epoch: 0013 train_loss= 0.62522 train_acc= 0.63658 val_roc= 0.61499 val_ap= 0.58090 time= 0.86347\n",
      "Epoch: 0014 train_loss= 0.62774 train_acc= 0.63658 val_roc= 0.61488 val_ap= 0.58091 time= 0.90202\n",
      "Epoch: 0015 train_loss= 0.63256 train_acc= 0.63658 val_roc= 0.61482 val_ap= 0.58092 time= 0.86953\n",
      "Epoch: 0016 train_loss= 0.63293 train_acc= 0.63658 val_roc= 0.61479 val_ap= 0.58092 time= 0.87881\n",
      "Epoch: 0017 train_loss= 0.62888 train_acc= 0.63658 val_roc= 0.61477 val_ap= 0.58093 time= 0.88762\n",
      "Epoch: 0018 train_loss= 0.62541 train_acc= 0.63658 val_roc= 0.61476 val_ap= 0.58093 time= 0.90547\n",
      "Epoch: 0019 train_loss= 0.62496 train_acc= 0.63658 val_roc= 0.61471 val_ap= 0.58093 time= 0.88749\n",
      "Epoch: 0020 train_loss= 0.62648 train_acc= 0.63658 val_roc= 0.61465 val_ap= 0.58094 time= 0.89104\n",
      "Epoch: 0021 train_loss= 0.62806 train_acc= 0.63658 val_roc= 0.61455 val_ap= 0.58095 time= 0.98398\n",
      "Epoch: 0022 train_loss= 0.62859 train_acc= 0.63658 val_roc= 0.61444 val_ap= 0.58096 time= 0.91023\n",
      "Epoch: 0023 train_loss= 0.62784 train_acc= 0.63658 val_roc= 0.61432 val_ap= 0.58097 time= 0.92247\n",
      "Epoch: 0024 train_loss= 0.62623 train_acc= 0.63658 val_roc= 0.61421 val_ap= 0.58096 time= 1.03416\n",
      "Epoch: 0025 train_loss= 0.62467 train_acc= 0.63658 val_roc= 0.61412 val_ap= 0.58101 time= 0.91000\n",
      "Epoch: 0026 train_loss= 0.62408 train_acc= 0.63658 val_roc= 0.61401 val_ap= 0.58099 time= 0.93418\n",
      "Epoch: 0027 train_loss= 0.62476 train_acc= 0.63658 val_roc= 0.61392 val_ap= 0.58100 time= 0.99727\n",
      "Epoch: 0028 train_loss= 0.62582 train_acc= 0.63658 val_roc= 0.61384 val_ap= 0.58102 time= 0.98361\n",
      "Epoch: 0029 train_loss= 0.62593 train_acc= 0.63658 val_roc= 0.61377 val_ap= 0.58103 time= 0.96188\n",
      "Epoch: 0030 train_loss= 0.62493 train_acc= 0.63658 val_roc= 0.61369 val_ap= 0.58103 time= 0.90829\n",
      "Epoch: 0031 train_loss= 0.62386 train_acc= 0.63658 val_roc= 0.61360 val_ap= 0.58105 time= 0.87559\n",
      "Epoch: 0032 train_loss= 0.62354 train_acc= 0.63658 val_roc= 0.61352 val_ap= 0.58106 time= 0.88081\n",
      "Epoch: 0033 train_loss= 0.62388 train_acc= 0.63658 val_roc= 0.61342 val_ap= 0.58110 time= 0.91069\n",
      "Epoch: 0034 train_loss= 0.62430 train_acc= 0.63658 val_roc= 0.61331 val_ap= 0.58108 time= 0.94850\n",
      "Epoch: 0035 train_loss= 0.62435 train_acc= 0.63658 val_roc= 0.61320 val_ap= 0.58110 time= 0.88762\n",
      "Epoch: 0036 train_loss= 0.62393 train_acc= 0.63658 val_roc= 0.61309 val_ap= 0.58107 time= 0.86345\n",
      "Epoch: 0037 train_loss= 0.62331 train_acc= 0.63658 val_roc= 0.61299 val_ap= 0.58109 time= 0.86702\n",
      "Epoch: 0038 train_loss= 0.62289 train_acc= 0.63658 val_roc= 0.61290 val_ap= 0.58110 time= 0.89440\n",
      "Epoch: 0039 train_loss= 0.62291 train_acc= 0.63658 val_roc= 0.61281 val_ap= 0.58114 time= 0.87070\n",
      "Epoch: 0040 train_loss= 0.62318 train_acc= 0.63658 val_roc= 0.61271 val_ap= 0.58117 time= 0.88546\n",
      "Epoch: 0041 train_loss= 0.62322 train_acc= 0.63658 val_roc= 0.61260 val_ap= 0.58116 time= 0.86635\n",
      "Epoch: 0042 train_loss= 0.62286 train_acc= 0.63658 val_roc= 0.61247 val_ap= 0.58116 time= 0.87792\n",
      "Epoch: 0043 train_loss= 0.62240 train_acc= 0.63658 val_roc= 0.61233 val_ap= 0.58114 time= 0.94778\n",
      "Epoch: 0044 train_loss= 0.62221 train_acc= 0.63658 val_roc= 0.61219 val_ap= 0.58115 time= 0.92246\n",
      "Epoch: 0045 train_loss= 0.62227 train_acc= 0.63658 val_roc= 0.61206 val_ap= 0.58118 time= 0.88436\n",
      "Epoch: 0046 train_loss= 0.62230 train_acc= 0.63658 val_roc= 0.61193 val_ap= 0.58118 time= 0.86382\n",
      "Epoch: 0047 train_loss= 0.62213 train_acc= 0.63658 val_roc= 0.61179 val_ap= 0.58120 time= 0.86874\n",
      "Epoch: 0048 train_loss= 0.62182 train_acc= 0.63658 val_roc= 0.61168 val_ap= 0.58119 time= 0.88408\n",
      "Epoch: 0049 train_loss= 0.62154 train_acc= 0.63658 val_roc= 0.61156 val_ap= 0.58121 time= 0.87478\n",
      "Epoch: 0050 train_loss= 0.62144 train_acc= 0.63658 val_roc= 0.61145 val_ap= 0.58127 time= 0.93392\n",
      "Epoch: 0051 train_loss= 0.62145 train_acc= 0.63658 val_roc= 0.61130 val_ap= 0.58126 time= 0.92438\n",
      "Epoch: 0052 train_loss= 0.62135 train_acc= 0.63658 val_roc= 0.61114 val_ap= 0.58126 time= 0.84737\n",
      "Epoch: 0053 train_loss= 0.62109 train_acc= 0.63658 val_roc= 0.61096 val_ap= 0.58129 time= 0.84702\n",
      "Epoch: 0054 train_loss= 0.62081 train_acc= 0.63658 val_roc= 0.61078 val_ap= 0.58144 time= 0.84408\n",
      "Epoch: 0055 train_loss= 0.62067 train_acc= 0.63658 val_roc= 0.61061 val_ap= 0.58156 time= 0.86413\n",
      "Epoch: 0056 train_loss= 0.62061 train_acc= 0.63658 val_roc= 0.61042 val_ap= 0.58165 time= 0.85060\n",
      "Epoch: 0057 train_loss= 0.62046 train_acc= 0.63658 val_roc= 0.61025 val_ap= 0.58167 time= 0.88542\n",
      "Epoch: 0058 train_loss= 0.62020 train_acc= 0.63876 val_roc= 0.61008 val_ap= 0.58169 time= 0.88856\n",
      "Epoch: 0059 train_loss= 0.61996 train_acc= 0.63878 val_roc= 0.60990 val_ap= 0.58174 time= 0.86832\n",
      "Epoch: 0060 train_loss= 0.61978 train_acc= 0.63878 val_roc= 0.60971 val_ap= 0.58174 time= 0.94371\n",
      "Epoch: 0061 train_loss= 0.61965 train_acc= 0.63878 val_roc= 0.60949 val_ap= 0.58171 time= 0.92705\n",
      "Epoch: 0062 train_loss= 0.61945 train_acc= 0.63878 val_roc= 0.60922 val_ap= 0.58170 time= 0.87185\n",
      "Epoch: 0063 train_loss= 0.61918 train_acc= 0.63878 val_roc= 0.60894 val_ap= 0.58160 time= 0.87217\n",
      "Epoch: 0064 train_loss= 0.61893 train_acc= 0.64094 val_roc= 0.60863 val_ap= 0.58141 time= 0.86809\n",
      "Epoch: 0065 train_loss= 0.61876 train_acc= 0.64092 val_roc= 0.60837 val_ap= 0.58129 time= 0.87017\n",
      "Epoch: 0066 train_loss= 0.61856 train_acc= 0.64092 val_roc= 0.60811 val_ap= 0.58121 time= 0.87695\n",
      "Epoch: 0067 train_loss= 0.61829 train_acc= 0.65154 val_roc= 0.60785 val_ap= 0.58101 time= 0.86592\n",
      "Epoch: 0068 train_loss= 0.61798 train_acc= 0.65147 val_roc= 0.60757 val_ap= 0.58083 time= 0.86945\n",
      "Epoch: 0069 train_loss= 0.61775 train_acc= 0.65142 val_roc= 0.60725 val_ap= 0.58071 time= 0.88562\n",
      "Epoch: 0070 train_loss= 0.61751 train_acc= 0.65142 val_roc= 0.60688 val_ap= 0.58047 time= 0.98427\n",
      "Epoch: 0071 train_loss= 0.61719 train_acc= 0.65281 val_roc= 0.60647 val_ap= 0.58015 time= 0.89008\n",
      "Epoch: 0072 train_loss= 0.61687 train_acc= 0.65556 val_roc= 0.60604 val_ap= 0.57987 time= 0.89240\n",
      "Epoch: 0073 train_loss= 0.61661 train_acc= 0.65650 val_roc= 0.60568 val_ap= 0.57960 time= 0.89564\n",
      "Epoch: 0074 train_loss= 0.61628 train_acc= 0.65757 val_roc= 0.60535 val_ap= 0.57935 time= 0.87145\n",
      "Epoch: 0075 train_loss= 0.61592 train_acc= 0.65757 val_roc= 0.60501 val_ap= 0.57911 time= 0.87304\n",
      "Epoch: 0076 train_loss= 0.61558 train_acc= 0.65756 val_roc= 0.60465 val_ap= 0.57883 time= 0.87294\n",
      "Epoch: 0077 train_loss= 0.61522 train_acc= 0.65756 val_roc= 0.60421 val_ap= 0.57841 time= 0.88856\n",
      "Epoch: 0078 train_loss= 0.61485 train_acc= 0.65756 val_roc= 0.60376 val_ap= 0.57799 time= 0.86843\n",
      "Epoch: 0079 train_loss= 0.61444 train_acc= 0.65756 val_roc= 0.60329 val_ap= 0.57762 time= 0.86931\n",
      "Epoch: 0080 train_loss= 0.61406 train_acc= 0.65756 val_roc= 0.60287 val_ap= 0.57734 time= 0.86180\n",
      "Epoch: 0081 train_loss= 0.61361 train_acc= 0.65756 val_roc= 0.60251 val_ap= 0.57707 time= 0.97496\n",
      "Epoch: 0082 train_loss= 0.61310 train_acc= 0.65759 val_roc= 0.60214 val_ap= 0.57687 time= 0.92643\n",
      "Epoch: 0083 train_loss= 0.61257 train_acc= 0.65761 val_roc= 0.60175 val_ap= 0.57656 time= 0.85687\n",
      "Epoch: 0084 train_loss= 0.61199 train_acc= 0.65919 val_roc= 0.60131 val_ap= 0.57623 time= 0.84996\n",
      "Epoch: 0085 train_loss= 0.61131 train_acc= 0.66105 val_roc= 0.60087 val_ap= 0.57588 time= 0.84204\n",
      "Epoch: 0086 train_loss= 0.61056 train_acc= 0.66109 val_roc= 0.60046 val_ap= 0.57551 time= 0.84232\n",
      "Epoch: 0087 train_loss= 0.60973 train_acc= 0.66111 val_roc= 0.60001 val_ap= 0.57503 time= 0.84835\n",
      "Epoch: 0088 train_loss= 0.60859 train_acc= 0.66599 val_roc= 0.59910 val_ap= 0.57413 time= 0.84275\n",
      "Epoch: 0089 train_loss= 0.60681 train_acc= 0.67078 val_roc= 0.59682 val_ap= 0.57192 time= 0.86657\n",
      "Epoch: 0090 train_loss= 0.60411 train_acc= 0.67308 val_roc= 0.59443 val_ap= 0.56975 time= 0.84376\n",
      "Epoch: 0091 train_loss= 0.60671 train_acc= 0.68645 val_roc= 0.59686 val_ap= 0.57203 time= 0.83759\n",
      "Epoch: 0092 train_loss= 0.60572 train_acc= 0.67235 val_roc= 0.59542 val_ap= 0.57086 time= 0.84734\n",
      "Epoch: 0093 train_loss= 0.60083 train_acc= 0.68072 val_roc= 0.59447 val_ap= 0.56883 time= 0.94975\n",
      "Epoch: 0094 train_loss= 0.60370 train_acc= 0.69196 val_roc= 0.59419 val_ap= 0.56880 time= 0.87830\n",
      "Epoch: 0095 train_loss= 0.59926 train_acc= 0.69215 val_roc= 0.59475 val_ap= 0.57003 time= 0.86707\n",
      "Epoch: 0096 train_loss= 0.59995 train_acc= 0.68592 val_roc= 0.59396 val_ap= 0.56906 time= 0.86502\n",
      "Epoch: 0097 train_loss= 0.59555 train_acc= 0.69117 val_roc= 0.59364 val_ap= 0.56741 time= 0.85112\n",
      "Epoch: 0098 train_loss= 0.59599 train_acc= 0.70279 val_roc= 0.59332 val_ap= 0.56705 time= 0.83903\n",
      "Epoch: 0099 train_loss= 0.59278 train_acc= 0.70418 val_roc= 0.59315 val_ap= 0.56779 time= 0.85279\n",
      "Epoch: 0100 train_loss= 0.59021 train_acc= 0.70225 val_roc= 0.59315 val_ap= 0.56664 time= 0.84371\n",
      "Epoch: 0101 train_loss= 0.58582 train_acc= 0.70835 val_roc= 0.59469 val_ap= 0.56599 time= 0.85185\n",
      "Epoch: 0102 train_loss= 0.58686 train_acc= 0.72371 val_roc= 0.59296 val_ap= 0.56663 time= 0.86022\n",
      "Epoch: 0103 train_loss= 0.58492 train_acc= 0.70835 val_roc= 0.59404 val_ap= 0.56548 time= 0.84132\n",
      "Epoch: 0104 train_loss= 0.57926 train_acc= 0.72875 val_roc= 0.59517 val_ap= 0.56493 time= 0.85372\n",
      "Epoch: 0105 train_loss= 0.57791 train_acc= 0.74360 val_roc= 0.59387 val_ap= 0.56498 time= 1.01101\n",
      "Epoch: 0106 train_loss= 0.57390 train_acc= 0.73423 val_roc= 0.59480 val_ap= 0.56467 time= 0.89542\n",
      "Epoch: 0107 train_loss= 0.57005 train_acc= 0.74390 val_roc= 0.59738 val_ap= 0.56505 time= 0.87318\n",
      "Epoch: 0108 train_loss= 0.56820 train_acc= 0.75237 val_roc= 0.59651 val_ap= 0.56490 time= 0.93833\n",
      "Epoch: 0109 train_loss= 0.56333 train_acc= 0.75012 val_roc= 0.59702 val_ap= 0.56490 time= 0.89178\n",
      "Epoch: 0110 train_loss= 0.55970 train_acc= 0.75146 val_roc= 0.60190 val_ap= 0.56639 time= 0.88794\n",
      "Epoch: 0111 train_loss= 0.55737 train_acc= 0.76187 val_roc= 0.59991 val_ap= 0.56591 time= 0.95594\n",
      "Epoch: 0112 train_loss= 0.55166 train_acc= 0.75726 val_roc= 0.60466 val_ap= 0.56785 time= 0.98951\n",
      "Epoch: 0113 train_loss= 0.54643 train_acc= 0.76168 val_roc= 0.60871 val_ap= 0.56955 time= 0.93056\n",
      "Epoch: 0114 train_loss= 0.54311 train_acc= 0.76045 val_roc= 0.60624 val_ap= 0.56848 time= 0.98555\n",
      "Epoch: 0115 train_loss= 0.53956 train_acc= 0.76206 val_roc= 0.60838 val_ap= 0.56904 time= 0.88078\n",
      "Epoch: 0116 train_loss= 0.53527 train_acc= 0.76612 val_roc= 0.60500 val_ap= 0.56715 time= 0.90804\n",
      "Epoch: 0117 train_loss= 0.53097 train_acc= 0.76976 val_roc= 0.60406 val_ap= 0.56624 time= 0.99786\n",
      "Epoch: 0118 train_loss= 0.52811 train_acc= 0.77189 val_roc= 0.60327 val_ap= 0.56585 time= 0.89127\n",
      "Epoch: 0119 train_loss= 0.52592 train_acc= 0.77242 val_roc= 0.60332 val_ap= 0.56596 time= 0.86748\n",
      "Epoch: 0120 train_loss= 0.52414 train_acc= 0.77366 val_roc= 0.60340 val_ap= 0.56583 time= 0.86648\n",
      "Epoch: 0121 train_loss= 0.52376 train_acc= 0.77689 val_roc= 0.60370 val_ap= 0.56596 time= 0.88779\n",
      "Epoch: 0122 train_loss= 0.52741 train_acc= 0.77144 val_roc= 0.59441 val_ap= 0.55650 time= 0.88519\n",
      "Epoch: 0123 train_loss= 0.54770 train_acc= 0.76129 val_roc= 0.59975 val_ap= 0.56464 time= 0.89710\n",
      "Epoch: 0124 train_loss= 0.56237 train_acc= 0.76095 val_roc= 0.59819 val_ap= 0.56155 time= 0.89663\n",
      "Epoch: 0125 train_loss= 0.52715 train_acc= 0.77447 val_roc= 0.59061 val_ap= 0.55425 time= 0.87027\n",
      "Epoch: 0126 train_loss= 0.54743 train_acc= 0.76862 val_roc= 0.60026 val_ap= 0.56432 time= 1.15392\n",
      "Epoch: 0127 train_loss= 0.52550 train_acc= 0.76934 val_roc= 0.60054 val_ap= 0.56458 time= 1.28585\n",
      "Epoch: 0128 train_loss= 0.54078 train_acc= 0.76289 val_roc= 0.60088 val_ap= 0.56374 time= 0.98058\n",
      "Epoch: 0129 train_loss= 0.52344 train_acc= 0.77657 val_roc= 0.59717 val_ap= 0.55923 time= 0.87390\n",
      "Epoch: 0130 train_loss= 0.53754 train_acc= 0.76793 val_roc= 0.60319 val_ap= 0.56572 time= 0.94838\n",
      "Epoch: 0131 train_loss= 0.52240 train_acc= 0.77782 val_roc= 0.60291 val_ap= 0.56580 time= 0.85474\n",
      "Epoch: 0132 train_loss= 0.53491 train_acc= 0.76837 val_roc= 0.60311 val_ap= 0.56594 time= 0.95155\n",
      "Epoch: 0133 train_loss= 0.52242 train_acc= 0.77671 val_roc= 0.59936 val_ap= 0.56143 time= 0.95466\n",
      "Epoch: 0134 train_loss= 0.52980 train_acc= 0.77317 val_roc= 0.60057 val_ap= 0.56277 time= 0.83544\n",
      "Epoch: 0135 train_loss= 0.52538 train_acc= 0.77624 val_roc= 0.60241 val_ap= 0.56520 time= 0.88661\n",
      "Epoch: 0136 train_loss= 0.52409 train_acc= 0.77146 val_roc= 0.60216 val_ap= 0.56524 time= 0.87917\n",
      "Epoch: 0137 train_loss= 0.52774 train_acc= 0.76808 val_roc= 0.60237 val_ap= 0.56521 time= 1.16914\n",
      "Epoch: 0138 train_loss= 0.52181 train_acc= 0.77677 val_roc= 0.60116 val_ap= 0.56303 time= 1.10440\n",
      "Epoch: 0139 train_loss= 0.52606 train_acc= 0.77572 val_roc= 0.60271 val_ap= 0.56459 time= 1.01644\n",
      "Epoch: 0140 train_loss= 0.52350 train_acc= 0.77723 val_roc= 0.60417 val_ap= 0.56655 time= 1.04446\n",
      "Epoch: 0141 train_loss= 0.52254 train_acc= 0.77365 val_roc= 0.60417 val_ap= 0.56627 time= 0.99407\n",
      "Epoch: 0142 train_loss= 0.52519 train_acc= 0.77170 val_roc= 0.60445 val_ap= 0.56663 time= 1.01301\n",
      "Epoch: 0143 train_loss= 0.52163 train_acc= 0.77536 val_roc= 0.60354 val_ap= 0.56498 time= 1.00011\n",
      "Epoch: 0144 train_loss= 0.52381 train_acc= 0.77606 val_roc= 0.60347 val_ap= 0.56533 time= 1.03619\n",
      "Epoch: 0145 train_loss= 0.52290 train_acc= 0.77726 val_roc= 0.60377 val_ap= 0.56639 time= 0.93470\n",
      "Epoch: 0146 train_loss= 0.52160 train_acc= 0.77460 val_roc= 0.60339 val_ap= 0.56588 time= 0.98512\n",
      "Epoch: 0147 train_loss= 0.52347 train_acc= 0.77118 val_roc= 0.60348 val_ap= 0.56620 time= 0.98769\n",
      "Epoch: 0148 train_loss= 0.52152 train_acc= 0.77458 val_roc= 0.60310 val_ap= 0.56531 time= 0.93906\n",
      "Epoch: 0149 train_loss= 0.52212 train_acc= 0.77797 val_roc= 0.60325 val_ap= 0.56529 time= 0.84061\n",
      "Epoch: 0150 train_loss= 0.52229 train_acc= 0.77801 val_roc= 0.60401 val_ap= 0.56631 time= 0.85367\n",
      "Epoch: 0151 train_loss= 0.52092 train_acc= 0.77614 val_roc= 0.60431 val_ap= 0.56651 time= 0.83350\n",
      "Epoch: 0152 train_loss= 0.52201 train_acc= 0.77350 val_roc= 0.60451 val_ap= 0.56681 time= 0.81370\n",
      "Epoch: 0153 train_loss= 0.52115 train_acc= 0.77494 val_roc= 0.60427 val_ap= 0.56612 time= 0.81999\n",
      "Epoch: 0154 train_loss= 0.52100 train_acc= 0.77746 val_roc= 0.60392 val_ap= 0.56573 time= 0.85104\n",
      "Epoch: 0155 train_loss= 0.52140 train_acc= 0.77760 val_roc= 0.60390 val_ap= 0.56612 time= 0.82804\n",
      "Epoch: 0156 train_loss= 0.52042 train_acc= 0.77722 val_roc= 0.60387 val_ap= 0.56640 time= 0.84579\n",
      "Epoch: 0157 train_loss= 0.52093 train_acc= 0.77482 val_roc= 0.60368 val_ap= 0.56627 time= 0.82257\n",
      "Epoch: 0158 train_loss= 0.52059 train_acc= 0.77566 val_roc= 0.60334 val_ap= 0.56568 time= 0.85841\n",
      "Epoch: 0159 train_loss= 0.52026 train_acc= 0.77811 val_roc= 0.60327 val_ap= 0.56539 time= 0.96526\n",
      "Epoch: 0160 train_loss= 0.52059 train_acc= 0.77861 val_roc= 0.60363 val_ap= 0.56587 time= 0.94983\n",
      "Epoch: 0161 train_loss= 0.51998 train_acc= 0.77797 val_roc= 0.60405 val_ap= 0.56650 time= 0.87714\n",
      "Epoch: 0162 train_loss= 0.52015 train_acc= 0.77626 val_roc= 0.60419 val_ap= 0.56655 time= 0.84223\n",
      "Epoch: 0163 train_loss= 0.52005 train_acc= 0.77636 val_roc= 0.60403 val_ap= 0.56608 time= 0.86266\n",
      "Epoch: 0164 train_loss= 0.51973 train_acc= 0.77805 val_roc= 0.60385 val_ap= 0.56575 time= 0.90616\n",
      "Epoch: 0165 train_loss= 0.51992 train_acc= 0.77849 val_roc= 0.60381 val_ap= 0.56594 time= 1.00871\n",
      "Epoch: 0166 train_loss= 0.51953 train_acc= 0.77824 val_roc= 0.60386 val_ap= 0.56626 time= 1.01703\n",
      "Epoch: 0167 train_loss= 0.51957 train_acc= 0.77723 val_roc= 0.60377 val_ap= 0.56620 time= 0.88309\n",
      "Epoch: 0168 train_loss= 0.51949 train_acc= 0.77740 val_roc= 0.60357 val_ap= 0.56579 time= 0.83995\n",
      "Epoch: 0169 train_loss= 0.51923 train_acc= 0.77840 val_roc= 0.60359 val_ap= 0.56563 time= 0.84210\n",
      "Epoch: 0170 train_loss= 0.51930 train_acc= 0.77889 val_roc= 0.60385 val_ap= 0.56594 time= 0.86117\n",
      "Epoch: 0171 train_loss= 0.51902 train_acc= 0.77843 val_roc= 0.60418 val_ap= 0.56637 time= 0.85323\n",
      "Epoch: 0172 train_loss= 0.51900 train_acc= 0.77777 val_roc= 0.60430 val_ap= 0.56643 time= 0.85117\n",
      "Epoch: 0173 train_loss= 0.51889 train_acc= 0.77775 val_roc= 0.60422 val_ap= 0.56615 time= 0.84672\n",
      "Epoch: 0174 train_loss= 0.51869 train_acc= 0.77850 val_roc= 0.60412 val_ap= 0.56598 time= 0.83718\n",
      "Epoch: 0175 train_loss= 0.51868 train_acc= 0.77883 val_roc= 0.60413 val_ap= 0.56612 time= 0.84080\n",
      "Epoch: 0176 train_loss= 0.51844 train_acc= 0.77864 val_roc= 0.60419 val_ap= 0.56634 time= 0.85606\n",
      "Epoch: 0177 train_loss= 0.51839 train_acc= 0.77816 val_roc= 0.60419 val_ap= 0.56628 time= 0.83900\n",
      "Epoch: 0178 train_loss= 0.51825 train_acc= 0.77836 val_roc= 0.60419 val_ap= 0.56610 time= 0.95889\n",
      "Epoch: 0179 train_loss= 0.51808 train_acc= 0.77885 val_roc= 0.60432 val_ap= 0.56613 time= 0.97300\n",
      "Epoch: 0180 train_loss= 0.51799 train_acc= 0.77892 val_roc= 0.60454 val_ap= 0.56638 time= 0.96956\n",
      "Epoch: 0181 train_loss= 0.51779 train_acc= 0.77866 val_roc= 0.60473 val_ap= 0.56661 time= 0.86874\n",
      "Epoch: 0182 train_loss= 0.51771 train_acc= 0.77835 val_roc= 0.60478 val_ap= 0.56659 time= 0.85331\n",
      "Epoch: 0183 train_loss= 0.51753 train_acc= 0.77861 val_roc= 0.60471 val_ap= 0.56639 time= 0.84174\n",
      "Epoch: 0184 train_loss= 0.51738 train_acc= 0.77904 val_roc= 0.60470 val_ap= 0.56635 time= 0.83744\n",
      "Epoch: 0185 train_loss= 0.51722 train_acc= 0.77912 val_roc= 0.60476 val_ap= 0.56653 time= 0.82538\n",
      "Epoch: 0186 train_loss= 0.51703 train_acc= 0.77893 val_roc= 0.60484 val_ap= 0.56662 time= 0.83775\n",
      "Epoch: 0187 train_loss= 0.51689 train_acc= 0.77887 val_roc= 0.60492 val_ap= 0.56658 time= 1.02965\n",
      "Epoch: 0188 train_loss= 0.51668 train_acc= 0.77909 val_roc= 0.60501 val_ap= 0.56652 time= 1.09751\n",
      "Epoch: 0189 train_loss= 0.51651 train_acc= 0.77928 val_roc= 0.60515 val_ap= 0.56663 time= 1.25555\n",
      "Epoch: 0190 train_loss= 0.51631 train_acc= 0.77928 val_roc= 0.60526 val_ap= 0.56679 time= 0.97244\n",
      "Epoch: 0191 train_loss= 0.51611 train_acc= 0.77925 val_roc= 0.60530 val_ap= 0.56683 time= 0.84853\n",
      "Epoch: 0192 train_loss= 0.51591 train_acc= 0.77929 val_roc= 0.60527 val_ap= 0.56669 time= 0.92641\n",
      "Epoch: 0193 train_loss= 0.51569 train_acc= 0.77956 val_roc= 0.60527 val_ap= 0.56666 time= 0.94618\n",
      "Epoch: 0194 train_loss= 0.51551 train_acc= 0.77976 val_roc= 0.60536 val_ap= 0.56674 time= 0.97416\n",
      "Epoch: 0195 train_loss= 0.51528 train_acc= 0.77976 val_roc= 0.60548 val_ap= 0.56686 time= 0.91455\n",
      "Epoch: 0196 train_loss= 0.51507 train_acc= 0.77967 val_roc= 0.60561 val_ap= 0.56694 time= 0.95078\n",
      "Epoch: 0197 train_loss= 0.51485 train_acc= 0.77984 val_roc= 0.60569 val_ap= 0.56693 time= 0.94636\n",
      "Epoch: 0198 train_loss= 0.51462 train_acc= 0.78009 val_roc= 0.60582 val_ap= 0.56700 time= 0.95100\n",
      "Epoch: 0199 train_loss= 0.51439 train_acc= 0.78014 val_roc= 0.60595 val_ap= 0.56711 time= 0.91792\n",
      "Epoch: 0200 train_loss= 0.51412 train_acc= 0.78021 val_roc= 0.60606 val_ap= 0.56720 time= 0.90652\n",
      "Optimization Finished!\n"
     ]
    }
   ],
   "source": [
    "cost_val = []\n",
    "acc_val = []\n",
    "val_roc_score = []\n",
    "\n",
    "adj_label = adj_train + sp.eye(adj_train.shape[0])\n",
    "adj_label = sparse_to_tuple(adj_label)\n",
    "\n",
    "# Train model\n",
    "for epoch in range(FLAGS.epochs):\n",
    "\n",
    "    t = time.time()\n",
    "    # Construct feed dictionary\n",
    "    feed_dict = construct_feed_dict(adj_norm, adj_label, features, placeholders)\n",
    "    feed_dict.update({placeholders['dropout']: FLAGS.dropout})\n",
    "    # Run single weight update\n",
    "    outs = sess.run([opt.opt_op, opt.cost, opt.accuracy], feed_dict=feed_dict)\n",
    "\n",
    "    # Compute average loss\n",
    "    avg_cost = outs[1]\n",
    "    avg_accuracy = outs[2]\n",
    "\n",
    "    roc_curr, ap_curr = get_roc_score(val_edges, val_edges_false)\n",
    "    val_roc_score.append(roc_curr)\n",
    "\n",
    "    print(\"Epoch:\", '%04d' % (epoch + 1), \"train_loss=\", \"{:.5f}\".format(avg_cost),\n",
    "          \"train_acc=\", \"{:.5f}\".format(avg_accuracy), \"val_roc=\", \"{:.5f}\".format(val_roc_score[-1]),\n",
    "          \"val_ap=\", \"{:.5f}\".format(ap_curr),\n",
    "          \"time=\", \"{:.5f}\".format(time.time() - t))\n",
    "\n",
    "print(\"Optimization Finished!\")"
   ]
  },
  {
   "cell_type": "code",
   "execution_count": 30,
   "metadata": {
    "collapsed": false
   },
   "outputs": [
    {
     "name": "stdout",
     "output_type": "stream",
     "text": [
      "Test ROC score: 0.615566784892\n",
      "Test AP score: 0.572067873101\n"
     ]
    }
   ],
   "source": [
    "roc_score, ap_score = get_roc_score(test_edges, test_edges_false)\n",
    "print('Test ROC score: ' + str(roc_score))\n",
    "print('Test AP score: ' + str(ap_score))"
   ]
  },
  {
   "cell_type": "code",
   "execution_count": 93,
   "metadata": {
    "collapsed": false
   },
   "outputs": [],
   "source": [
    "def sigmoid(x):\n",
    "    return 1 / (1 + np.exp(-x))\n",
    "\n",
    "edges_pos = test_edges\n",
    "edges_neg = test_edges_false\n",
    "feed_dict.update({placeholders['dropout']: 0})\n",
    "emb = sess.run(model.z_mean, feed_dict=feed_dict)\n",
    "\n",
    "\n",
    "# Predict on test set of edges\n",
    "adj_rec = np.dot(emb, emb.T)\n",
    "preds = []\n",
    "pos = []\n",
    "for e in edges_pos:\n",
    "    preds.append(sigmoid(adj_rec[e[0], e[1]]))\n",
    "    pos.append(adj_orig[e[0], e[1]])\n",
    "\n",
    "preds_neg = []\n",
    "neg = []\n",
    "for e in edges_neg:\n",
    "    preds_neg.append(sigmoid(adj_rec[e[0], e[1]]))\n",
    "    neg.append(adj_orig[e[0], e[1]])\n",
    "\n",
    "preds_all = np.hstack([preds, preds_neg])\n",
    "labels_all = np.hstack([np.ones(len(preds)), np.zeros(len(preds))])"
   ]
  },
  {
   "cell_type": "code",
   "execution_count": 99,
   "metadata": {
    "collapsed": false
   },
   "outputs": [
    {
     "data": {
      "text/plain": [
       "(12890,)"
      ]
     },
     "execution_count": 99,
     "metadata": {},
     "output_type": "execute_result"
    }
   ],
   "source": [
    "preds_all.shape"
   ]
  },
  {
   "cell_type": "code",
   "execution_count": 103,
   "metadata": {
    "collapsed": false
   },
   "outputs": [
    {
     "data": {
      "text/plain": [
       "6445"
      ]
     },
     "execution_count": 103,
     "metadata": {},
     "output_type": "execute_result"
    }
   ],
   "source": [
    "len(preds)"
   ]
  },
  {
   "cell_type": "code",
   "execution_count": 104,
   "metadata": {
    "collapsed": false
   },
   "outputs": [
    {
     "data": {
      "text/plain": [
       "6445"
      ]
     },
     "execution_count": 104,
     "metadata": {},
     "output_type": "execute_result"
    }
   ],
   "source": [
    "len(preds_neg)"
   ]
  },
  {
   "cell_type": "code",
   "execution_count": null,
   "metadata": {
    "collapsed": true
   },
   "outputs": [],
   "source": [
    "## Essayer de comprendre ce que renvoie preds ! Des proba a thresholder ?\n",
    "## Je me suis emballée trop vite, c'est pas des 0,1 les prédictions, plutot des proba je crois"
   ]
  }
 ],
 "metadata": {
  "kernelspec": {
   "display_name": "Python 3",
   "language": "python",
   "name": "python3"
  },
  "language_info": {
   "codemirror_mode": {
    "name": "ipython",
    "version": 3
   },
   "file_extension": ".py",
   "mimetype": "text/x-python",
   "name": "python",
   "nbconvert_exporter": "python",
   "pygments_lexer": "ipython3",
   "version": "3.5.4"
  }
 },
 "nbformat": 4,
 "nbformat_minor": 0
}
