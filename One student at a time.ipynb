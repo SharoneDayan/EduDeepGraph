{
 "cells": [
  {
   "cell_type": "code",
   "execution_count": 170,
   "metadata": {
    "ExecuteTime": {
     "end_time": "2017-12-28T18:47:18.850263Z",
     "start_time": "2017-12-28T18:47:18.838281Z"
    }
   },
   "outputs": [],
   "source": [
    "import pandas as pd\n",
    "import numpy as np\n",
    "import scipy\n",
    "import time\n",
    "import random\n",
    "import sys\n",
    "# Import T. Kipf's GCN implementation\n",
    "# https://github.com/tkipf/keras-gcn\n",
    "sys.path.append('../keras-gcn/')\n",
    "from keras.layers import Input, Dropout\n",
    "from keras.models import Model\n",
    "from keras.optimizers import Adam\n",
    "from keras.regularizers import l2\n",
    "from keras.utils import to_categorical\n",
    "\n",
    "from kegra.layers.graph import GraphConvolution\n",
    "from kegra.utils import *\n",
    "%matplotlib inline"
   ]
  },
  {
   "cell_type": "code",
   "execution_count": 180,
   "metadata": {
    "ExecuteTime": {
     "end_time": "2017-12-28T18:49:29.928641Z",
     "start_time": "2017-12-28T18:49:29.910019Z"
    }
   },
   "outputs": [],
   "source": [
    "A = pd.read_pickle('adjacency_small.pkl') \n",
    "A = A[sorted(A.columns)]\n",
    "X = pd.read_hdf('history_small.hdf', key='hist') "
   ]
  },
  {
   "cell_type": "code",
   "execution_count": 181,
   "metadata": {
    "ExecuteTime": {
     "end_time": "2017-12-28T18:49:30.604314Z",
     "start_time": "2017-12-28T18:49:30.597102Z"
    }
   },
   "outputs": [],
   "source": [
    "student = 142954.0 # np.random.choice(X.columns)\n",
    "X_k_ = X[student]\n",
    "X_k, ex_k = X_k_[X_k_!=-100], X_k_[X_k_!=-100].index\n",
    "c = 15\n",
    "assert c + 1< len(X_k)"
   ]
  },
  {
   "cell_type": "code",
   "execution_count": null,
   "metadata": {},
   "outputs": [],
   "source": [
    "def one_hot(x):\n",
    "    if x == 0:\n",
    "        return [1,0]\n",
    "    elif x == 1:\n",
    "        return [0,1]"
   ]
  },
  {
   "cell_type": "code",
   "execution_count": 239,
   "metadata": {
    "ExecuteTime": {
     "end_time": "2017-12-28T19:00:07.339350Z",
     "start_time": "2017-12-28T19:00:07.326173Z"
    },
    "scrolled": true
   },
   "outputs": [],
   "source": [
    "n_samples = 15\n",
    "idx_train = random.sample(list(ex_k), n_samples)\n",
    "idx_test = random.sample([k for k in ex_k if k not in idx_train], 1)\n",
    "idx_full = np.hstack((idx_train,idx_test))\n",
    "X_train = X_k.loc[idx_full].values\n",
    "#X_train = to_categorical(X_train)\n",
    "#y_train = X_k.loc[idx_test]\n",
    "#y_train = np.array(y_train).reshape((len(y_train), 1))\n",
    "y_train = np.zeros((X_train.shape[0],2))\n",
    "y_train[n_samples] = one_hot(X_train[n_samples])\n",
    "A_train = A[A.index.isin(idx_full)][sorted(idx_full)]\n",
    "A_train = scipy.sparse.csr_matrix(A_train.values)"
   ]
  },
  {
   "cell_type": "code",
   "execution_count": 234,
   "metadata": {
    "ExecuteTime": {
     "end_time": "2017-12-28T18:58:46.305179Z",
     "start_time": "2017-12-28T18:58:46.301657Z"
    }
   },
   "outputs": [
    {
     "data": {
      "text/plain": [
       "((16, 16), (16,), (16, 2))"
      ]
     },
     "execution_count": 234,
     "metadata": {},
     "output_type": "execute_result"
    }
   ],
   "source": [
    "A_train.shape, X_train.shape, y_train.shape"
   ]
  },
  {
   "cell_type": "code",
   "execution_count": 241,
   "metadata": {
    "ExecuteTime": {
     "end_time": "2017-12-28T19:00:21.748166Z",
     "start_time": "2017-12-28T19:00:21.745513Z"
    }
   },
   "outputs": [],
   "source": [
    "train_mask = np.array(list(map(bool, np.hstack((np.ones(n_samples), [0])))))"
   ]
  },
  {
   "cell_type": "code",
   "execution_count": 243,
   "metadata": {
    "ExecuteTime": {
     "end_time": "2017-12-28T19:00:42.405322Z",
     "start_time": "2017-12-28T19:00:42.402219Z"
    }
   },
   "outputs": [],
   "source": [
    "# Normalize X_train\n",
    "X_train = X_train/X_train.sum()\n",
    "X_train = X_train.reshape((len(X_train), 1))"
   ]
  },
  {
   "cell_type": "code",
   "execution_count": 244,
   "metadata": {
    "ExecuteTime": {
     "end_time": "2017-12-28T19:00:44.698860Z",
     "start_time": "2017-12-28T19:00:44.689536Z"
    },
    "scrolled": true
   },
   "outputs": [],
   "source": [
    "A_ = preprocess_adj(A_train, True)\n",
    "support = 1\n",
    "graph = [X_train, A_]\n",
    "G = [Input(shape=(None, None), batch_shape=(None, None), sparse=True)]"
   ]
  },
  {
   "cell_type": "code",
   "execution_count": 249,
   "metadata": {
    "ExecuteTime": {
     "end_time": "2017-12-28T19:01:03.439748Z",
     "start_time": "2017-12-28T19:01:03.330056Z"
    }
   },
   "outputs": [],
   "source": [
    "X_in = Input(shape=(X_train.shape[1],))\n",
    "\n",
    "# Define model architecture\n",
    "H = Dropout(0.5)(X_in)\n",
    "H = GraphConvolution(16, support, activation='relu', W_regularizer=l2(5e-4))([H]+G)\n",
    "H = Dropout(0.5)(H)\n",
    "Y = GraphConvolution(y_train.shape[1], support, activation='softmax')([H]+G)\n",
    "\n",
    "# Compile model\n",
    "model = Model(inputs=[X_in]+G, outputs=Y)\n",
    "model.compile(loss='categorical_crossentropy', optimizer=Adam(lr=0.01))"
   ]
  },
  {
   "cell_type": "code",
   "execution_count": 250,
   "metadata": {
    "ExecuteTime": {
     "end_time": "2017-12-28T19:01:04.379941Z",
     "start_time": "2017-12-28T19:01:03.642338Z"
    }
   },
   "outputs": [],
   "source": [
    "h = model.fit(graph, y_train, sample_weight=train_mask,\n",
    "          batch_size=A_train.shape[0], epochs=1, shuffle=False, verbose=0)"
   ]
  },
  {
   "cell_type": "code",
   "execution_count": 251,
   "metadata": {
    "ExecuteTime": {
     "end_time": "2017-12-28T19:01:05.569414Z",
     "start_time": "2017-12-28T19:01:05.521980Z"
    }
   },
   "outputs": [],
   "source": [
    "preds = model.predict(graph, batch_size=A_train.shape[0])"
   ]
  },
  {
   "cell_type": "code",
   "execution_count": 252,
   "metadata": {
    "ExecuteTime": {
     "end_time": "2017-12-28T19:01:06.526325Z",
     "start_time": "2017-12-28T19:01:06.521601Z"
    }
   },
   "outputs": [
    {
     "data": {
      "text/plain": [
       "array([[ 0.50037676,  0.49962321],\n",
       "       [ 0.50036758,  0.49963245],\n",
       "       [ 0.50037301,  0.49962702],\n",
       "       [ 0.50037009,  0.49962997],\n",
       "       [ 0.50035399,  0.49964598],\n",
       "       [ 0.50037205,  0.49962798],\n",
       "       [ 0.50036699,  0.49963301],\n",
       "       [ 0.50036854,  0.49963152],\n",
       "       [ 0.50036907,  0.49963102],\n",
       "       [ 0.50036788,  0.49963212],\n",
       "       [ 0.50037193,  0.49962813],\n",
       "       [ 0.50036961,  0.49963048],\n",
       "       [ 0.50036794,  0.49963206],\n",
       "       [ 0.50036377,  0.4996362 ],\n",
       "       [ 0.50034058,  0.49965945],\n",
       "       [ 0.50034106,  0.49965897]], dtype=float32)"
      ]
     },
     "execution_count": 252,
     "metadata": {},
     "output_type": "execute_result"
    }
   ],
   "source": [
    "preds"
   ]
  },
  {
   "cell_type": "code",
   "execution_count": null,
   "metadata": {},
   "outputs": [],
   "source": []
  }
 ],
 "metadata": {
  "kernelspec": {
   "display_name": "Python 3",
   "language": "python",
   "name": "python3"
  },
  "language_info": {
   "codemirror_mode": {
    "name": "ipython",
    "version": 3
   },
   "file_extension": ".py",
   "mimetype": "text/x-python",
   "name": "python",
   "nbconvert_exporter": "python",
   "pygments_lexer": "ipython3",
   "version": "3.6.3"
  },
  "toc": {
   "nav_menu": {},
   "number_sections": true,
   "sideBar": true,
   "skip_h1_title": false,
   "toc_cell": false,
   "toc_position": {},
   "toc_section_display": "block",
   "toc_window_display": false
  }
 },
 "nbformat": 4,
 "nbformat_minor": 2
}
